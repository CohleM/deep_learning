{
 "cells": [
  {
   "cell_type": "markdown",
   "id": "72ddc61d",
   "metadata": {},
   "source": [
    "#### F vector\n",
    "\n",
    "consider this sample is our router probability for all 5 tokens and 4 experts (5x4) matrix"
   ]
  },
  {
   "cell_type": "code",
   "execution_count": 56,
   "id": "dca7abd2",
   "metadata": {},
   "outputs": [
    {
     "data": {
      "text/plain": [
       "tensor([[ 0.0384,  0.3811, -0.9004,  0.0853],\n",
       "        [ 0.2770,  0.1141, -0.6625,  0.4889],\n",
       "        [ 0.7854,  0.7123, -0.3660, -1.2273],\n",
       "        [ 0.9355,  1.9071,  0.7386, -0.3621],\n",
       "        [ 0.8633, -0.5028, -1.0617, -1.2414]])"
      ]
     },
     "execution_count": 56,
     "metadata": {},
     "output_type": "execute_result"
    }
   ],
   "source": [
    "sample = torch.randn(5,4)\n",
    "sample"
   ]
  },
  {
   "cell_type": "code",
   "execution_count": 57,
   "id": "04aad191",
   "metadata": {},
   "outputs": [
    {
     "data": {
      "text/plain": [
       "(tensor([[0.3811],\n",
       "         [0.4889],\n",
       "         [0.7854],\n",
       "         [1.9071],\n",
       "         [0.8633]]),\n",
       " tensor([[1],\n",
       "         [3],\n",
       "         [0],\n",
       "         [1],\n",
       "         [0]]))"
      ]
     },
     "execution_count": 57,
     "metadata": {},
     "output_type": "execute_result"
    }
   ],
   "source": [
    "val,ind = torch.topk(sample,k=1,dim=-1)\n",
    "val,ind"
   ]
  },
  {
   "cell_type": "code",
   "execution_count": 58,
   "id": "86ef0307",
   "metadata": {},
   "outputs": [
    {
     "data": {
      "text/plain": [
       "tensor([[0., 0., 0., 0.],\n",
       "        [0., 0., 0., 0.],\n",
       "        [0., 0., 0., 0.],\n",
       "        [0., 0., 0., 0.],\n",
       "        [0., 0., 0., 0.]])"
      ]
     },
     "execution_count": 58,
     "metadata": {},
     "output_type": "execute_result"
    }
   ],
   "source": [
    "f_vector = torch.zeros_like(sample)\n",
    "ones = torch.ones_like(sample)\n",
    "\n",
    "f_vector"
   ]
  },
  {
   "cell_type": "code",
   "execution_count": 59,
   "id": "477fd99e",
   "metadata": {},
   "outputs": [
    {
     "data": {
      "text/plain": [
       "tensor([[0., 1., 0., 0.],\n",
       "        [0., 0., 0., 1.],\n",
       "        [1., 0., 0., 0.],\n",
       "        [0., 1., 0., 0.],\n",
       "        [1., 0., 0., 0.]])"
      ]
     },
     "execution_count": 59,
     "metadata": {},
     "output_type": "execute_result"
    }
   ],
   "source": [
    "f_vector.scatter_(dim=-1,index=ind, src=ones)"
   ]
  },
  {
   "cell_type": "code",
   "execution_count": 60,
   "id": "e1f01615",
   "metadata": {},
   "outputs": [
    {
     "data": {
      "text/plain": [
       "tensor([2., 2., 0., 1.])"
      ]
     },
     "execution_count": 60,
     "metadata": {},
     "output_type": "execute_result"
    }
   ],
   "source": [
    "f_vector.sum(dim=0)"
   ]
  },
  {
   "cell_type": "code",
   "execution_count": 61,
   "id": "df0d29cb",
   "metadata": {},
   "outputs": [
    {
     "data": {
      "text/plain": [
       "tensor([0.4000, 0.4000, 0.0000, 0.2000])"
      ]
     },
     "execution_count": 61,
     "metadata": {},
     "output_type": "execute_result"
    }
   ],
   "source": [
    "f_vector = f_vector.sum(dim=0)/f_matrix.shape[0]\n",
    "f_vector"
   ]
  },
  {
   "cell_type": "markdown",
   "id": "38aa9078",
   "metadata": {},
   "source": [
    "see the imbalance? each expert should get 1/4= 0.25 tokens, we need to minimize this inappropriate distribution by adding this in loss function."
   ]
  },
  {
   "cell_type": "markdown",
   "id": "b10618d9",
   "metadata": {},
   "source": [
    "#### P vector"
   ]
  },
  {
   "cell_type": "code",
   "execution_count": 62,
   "id": "34a5e722",
   "metadata": {},
   "outputs": [
    {
     "data": {
      "text/plain": [
       "tensor([[ 0.0384,  0.3811, -0.9004,  0.0853],\n",
       "        [ 0.2770,  0.1141, -0.6625,  0.4889],\n",
       "        [ 0.7854,  0.7123, -0.3660, -1.2273],\n",
       "        [ 0.9355,  1.9071,  0.7386, -0.3621],\n",
       "        [ 0.8633, -0.5028, -1.0617, -1.2414]])"
      ]
     },
     "execution_count": 62,
     "metadata": {},
     "output_type": "execute_result"
    }
   ],
   "source": [
    "sample"
   ]
  },
  {
   "cell_type": "code",
   "execution_count": 63,
   "id": "0250a4c5",
   "metadata": {},
   "outputs": [
    {
     "data": {
      "text/plain": [
       "tensor([[0.2599, 0.3661, 0.1016, 0.2724],\n",
       "        [0.2877, 0.2444, 0.1124, 0.3555],\n",
       "        [0.4203, 0.3907, 0.1329, 0.0562],\n",
       "        [0.2111, 0.5578, 0.1734, 0.0577],\n",
       "        [0.6567, 0.1675, 0.0958, 0.0800]])"
      ]
     },
     "execution_count": 63,
     "metadata": {},
     "output_type": "execute_result"
    }
   ],
   "source": [
    "sample = sample.softmax(dim=-1)\n",
    "sample"
   ]
  },
  {
   "cell_type": "code",
   "execution_count": 64,
   "id": "35491b3c",
   "metadata": {},
   "outputs": [
    {
     "data": {
      "text/plain": [
       "tensor([0.3671, 0.3453, 0.1232, 0.1644])"
      ]
     },
     "execution_count": 64,
     "metadata": {},
     "output_type": "execute_result"
    }
   ],
   "source": [
    "p_vector = sample.sum(dim=0)/sample.shape[0]\n",
    "p_vector"
   ]
  },
  {
   "cell_type": "markdown",
   "id": "59bdd402",
   "metadata": {},
   "source": [
    "as you can see the experts have imbalanced distribution of probabilities, the objective of including P vector is to make this p vector's distribution uniform"
   ]
  },
  {
   "cell_type": "markdown",
   "id": "5d93d09e",
   "metadata": {},
   "source": [
    "#### loss function"
   ]
  },
  {
   "cell_type": "code",
   "execution_count": 69,
   "id": "f5bb4736",
   "metadata": {},
   "outputs": [],
   "source": [
    "N = 4\n",
    "alpha = 1.0"
   ]
  },
  {
   "cell_type": "code",
   "execution_count": 71,
   "id": "18404f8f",
   "metadata": {},
   "outputs": [
    {
     "data": {
      "text/plain": [
       "tensor(1.2714)"
      ]
     },
     "execution_count": 71,
     "metadata": {},
     "output_type": "execute_result"
    }
   ],
   "source": [
    "loss = alpha * N * (p_vector*f_vector).sum()\n",
    "loss"
   ]
  }
 ],
 "metadata": {
  "kernelspec": {
   "display_name": "deep_learning",
   "language": "python",
   "name": "deep_learning"
  },
  "language_info": {
   "codemirror_mode": {
    "name": "ipython",
    "version": 3
   },
   "file_extension": ".py",
   "mimetype": "text/x-python",
   "name": "python",
   "nbconvert_exporter": "python",
   "pygments_lexer": "ipython3",
   "version": "3.12.7"
  }
 },
 "nbformat": 4,
 "nbformat_minor": 5
}
