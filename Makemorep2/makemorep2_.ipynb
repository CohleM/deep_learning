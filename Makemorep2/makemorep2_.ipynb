{
 "cells": [
  {
   "cell_type": "code",
   "execution_count": 27,
   "id": "59d96735",
   "metadata": {},
   "outputs": [],
   "source": [
    "words = open('names.txt').read().splitlines()"
   ]
  },
  {
   "cell_type": "code",
   "execution_count": 402,
   "id": "6f556600",
   "metadata": {},
   "outputs": [],
   "source": [
    "import random"
   ]
  },
  {
   "cell_type": "code",
   "execution_count": 405,
   "id": "b541704d",
   "metadata": {},
   "outputs": [],
   "source": [
    "random.shuffle(words)"
   ]
  },
  {
   "cell_type": "code",
   "execution_count": null,
   "id": "999fbfb6",
   "metadata": {},
   "outputs": [],
   "source": []
  },
  {
   "cell_type": "code",
   "execution_count": 406,
   "id": "99559ef5",
   "metadata": {},
   "outputs": [
    {
     "name": "stdout",
     "output_type": "stream",
     "text": [
      "{1: 'a', 2: 'b', 3: 'c', 4: 'd', 5: 'e', 6: 'f', 7: 'g', 8: 'h', 9: 'i', 10: 'j', 11: 'k', 12: 'l', 13: 'm', 14: 'n', 15: 'o', 16: 'p', 17: 'q', 18: 'r', 19: 's', 20: 't', 21: 'u', 22: 'v', 23: 'w', 24: 'x', 25: 'y', 26: 'z', 0: '.'}\n"
     ]
    }
   ],
   "source": [
    "# build the vocabulary of characters and mappings to/from integers\n",
    "chars = sorted(list(set(''.join(words))))\n",
    "stoi = {s:i+1 for i,s in enumerate(chars)}\n",
    "stoi['.'] = 0\n",
    "itos = {i:s for s,i in stoi.items()}\n",
    "print(itos)"
   ]
  },
  {
   "cell_type": "markdown",
   "id": "8da61fbc",
   "metadata": {},
   "source": [
    "### Construct our dataset i.e three characters as input and one character as output\n",
    "\n",
    "for example:\n",
    "\n",
    "dup --> e\n"
   ]
  },
  {
   "cell_type": "code",
   "execution_count": 165,
   "id": "8b4f8f26",
   "metadata": {},
   "outputs": [],
   "source": [
    "import torch\n",
    "import torch.nn.functional as F\n",
    "\n",
    "import matplotlib.pyplot as plt"
   ]
  },
  {
   "cell_type": "code",
   "execution_count": 407,
   "id": "4d63c52e",
   "metadata": {},
   "outputs": [],
   "source": [
    "# build the dataset\n",
    "\n",
    "block_size = (\n",
    "    3  # context length: how many characters do we take to predict the next one?\n",
    ")\n",
    "X, Y = [], []\n",
    "for w in words:\n",
    "\n",
    "    # print(w)\n",
    "    context = [0] * block_size\n",
    "    for ch in w + \".\":\n",
    "        ix = stoi[ch]\n",
    "        X.append(context)\n",
    "        Y.append(ix)\n",
    "        # print(''.join(itos[i] for i in context), '--->', itos[ix])\n",
    "        context = context[1:] + [ix]  # crop and append\n",
    "\n",
    "X = torch.tensor(X)\n",
    "Y = torch.tensor(Y)\n"
   ]
  },
  {
   "cell_type": "code",
   "execution_count": null,
   "id": "d0b72dc3",
   "metadata": {},
   "outputs": [],
   "source": []
  },
  {
   "cell_type": "code",
   "execution_count": 37,
   "id": "2a99f05f",
   "metadata": {},
   "outputs": [
    {
     "data": {
      "text/plain": [
       "27"
      ]
     },
     "execution_count": 37,
     "metadata": {},
     "output_type": "execute_result"
    }
   ],
   "source": [
    "len(stoi)"
   ]
  },
  {
   "cell_type": "markdown",
   "id": "45b8eb11",
   "metadata": {},
   "source": [
    "### Initial Character embeddings"
   ]
  },
  {
   "cell_type": "code",
   "execution_count": 49,
   "id": "e5de7ac7",
   "metadata": {},
   "outputs": [
    {
     "data": {
      "text/plain": [
       "3"
      ]
     },
     "execution_count": 49,
     "metadata": {},
     "output_type": "execute_result"
    }
   ],
   "source": [
    "block_size"
   ]
  },
  {
   "cell_type": "code",
   "execution_count": 40,
   "id": "8cb8e481",
   "metadata": {},
   "outputs": [],
   "source": [
    "\n",
    "emb_dm = 2\n",
    "emb = torch.randn((len(stoi), emb_dm))"
   ]
  },
  {
   "cell_type": "code",
   "execution_count": 45,
   "id": "c4b4d336",
   "metadata": {},
   "outputs": [
    {
     "data": {
      "text/plain": [
       "tensor([0, 0, 0])"
      ]
     },
     "execution_count": 45,
     "metadata": {},
     "output_type": "execute_result"
    }
   ],
   "source": [
    "X[0]"
   ]
  },
  {
   "cell_type": "code",
   "execution_count": 52,
   "id": "bc9609f2",
   "metadata": {},
   "outputs": [
    {
     "data": {
      "text/plain": [
       "tensor([[ 0.2507, -0.2480],\n",
       "        [ 0.2507, -0.2480],\n",
       "        [ 0.2507, -0.2480]])"
      ]
     },
     "execution_count": 52,
     "metadata": {},
     "output_type": "execute_result"
    }
   ],
   "source": [
    "emb[X[0]]"
   ]
  },
  {
   "cell_type": "code",
   "execution_count": 56,
   "id": "05a973ac",
   "metadata": {},
   "outputs": [
    {
     "data": {
      "text/plain": [
       "torch.Size([2, 3])"
      ]
     },
     "execution_count": 56,
     "metadata": {},
     "output_type": "execute_result"
    }
   ],
   "source": [
    "X[:2].shape"
   ]
  },
  {
   "cell_type": "code",
   "execution_count": 57,
   "id": "233135fc",
   "metadata": {},
   "outputs": [
    {
     "data": {
      "text/plain": [
       "tensor([[[ 0.2507, -0.2480],\n",
       "         [ 0.2507, -0.2480],\n",
       "         [ 0.2507, -0.2480]],\n",
       "\n",
       "        [[ 0.2507, -0.2480],\n",
       "         [ 0.2507, -0.2480],\n",
       "         [-0.6253, -0.8834]]])"
      ]
     },
     "execution_count": 57,
     "metadata": {},
     "output_type": "execute_result"
    }
   ],
   "source": [
    "emb[X[:2]]"
   ]
  },
  {
   "cell_type": "code",
   "execution_count": 58,
   "id": "315ffb0e",
   "metadata": {},
   "outputs": [
    {
     "data": {
      "text/plain": [
       "tensor([[ 0.2507, -0.2480,  0.2507, -0.2480,  0.2507, -0.2480],\n",
       "        [ 0.2507, -0.2480,  0.2507, -0.2480, -0.6253, -0.8834]])"
      ]
     },
     "execution_count": 58,
     "metadata": {},
     "output_type": "execute_result"
    }
   ],
   "source": [
    "emb[X[:2]].view(-1, block_size*emb_dm)"
   ]
  },
  {
   "cell_type": "code",
   "execution_count": 48,
   "id": "0c219785",
   "metadata": {},
   "outputs": [
    {
     "data": {
      "text/plain": [
       "torch.Size([228146, 3])"
      ]
     },
     "execution_count": 48,
     "metadata": {},
     "output_type": "execute_result"
    }
   ],
   "source": [
    "X.shape"
   ]
  },
  {
   "cell_type": "code",
   "execution_count": 59,
   "id": "b0251b39",
   "metadata": {},
   "outputs": [
    {
     "data": {
      "text/plain": [
       "tensor([[ 0.2507, -0.2480,  0.2507, -0.2480,  0.2507, -0.2480],\n",
       "        [ 0.2507, -0.2480,  0.2507, -0.2480, -0.6253, -0.8834],\n",
       "        [ 0.2507, -0.2480, -0.6253, -0.8834,  0.2861,  1.1079],\n",
       "        ...,\n",
       "        [-1.0058,  0.0051, -1.0058,  0.0051,  0.3354, -1.0420],\n",
       "        [-1.0058,  0.0051,  0.3354, -1.0420, -1.0058,  0.0051],\n",
       "        [ 0.3354, -1.0420, -1.0058,  0.0051, -0.6214, -1.2187]])"
      ]
     },
     "execution_count": 59,
     "metadata": {},
     "output_type": "execute_result"
    }
   ],
   "source": []
  },
  {
   "cell_type": "markdown",
   "id": "5ef0d696",
   "metadata": {},
   "source": [
    "## Convert names into feature vector of dimension 3"
   ]
  },
  {
   "cell_type": "code",
   "execution_count": 96,
   "id": "54728308",
   "metadata": {},
   "outputs": [],
   "source": [
    "X_emb = emb[X].view(-1, block_size*emb_dm)"
   ]
  },
  {
   "cell_type": "code",
   "execution_count": 97,
   "id": "65033cda",
   "metadata": {},
   "outputs": [
    {
     "data": {
      "text/plain": [
       "torch.Size([228146, 6])"
      ]
     },
     "execution_count": 97,
     "metadata": {},
     "output_type": "execute_result"
    }
   ],
   "source": [
    "X_emb.shape"
   ]
  },
  {
   "cell_type": "markdown",
   "id": "2938affc",
   "metadata": {},
   "source": [
    "## make our simple NN"
   ]
  },
  {
   "cell_type": "markdown",
   "id": "66acf336",
   "metadata": {},
   "source": [
    "#### Define NN structure"
   ]
  },
  {
   "cell_type": "code",
   "execution_count": 121,
   "id": "cf67ce16",
   "metadata": {},
   "outputs": [],
   "source": [
    "w_dim = 100\n",
    "\n",
    "W1 = torch.randn(block_size*emb_dm, w_dim, requires_grad=True)\n",
    "b1 = torch.randn(w_dim, requires_grad = True)\n",
    "\n",
    "W2 = torch.randn(w_dim, len(stoi), requires_grad=True)\n",
    "b2 = torch.randn(len(stoi), requires_grad = True)\n",
    "\n",
    "parameters = [W1, b1, W2, b2]"
   ]
  },
  {
   "cell_type": "markdown",
   "id": "01b34609",
   "metadata": {},
   "source": [
    "### Construct a training loop\n"
   ]
  },
  {
   "cell_type": "code",
   "execution_count": 122,
   "id": "24f15d1d",
   "metadata": {},
   "outputs": [
    {
     "data": {
      "text/plain": [
       "tensor(5)"
      ]
     },
     "execution_count": 122,
     "metadata": {},
     "output_type": "execute_result"
    }
   ],
   "source": [
    "Y[0]"
   ]
  },
  {
   "cell_type": "markdown",
   "id": "b6bae0e5",
   "metadata": {},
   "source": [
    "### Check if our current implementation matches with the pytorch's definition of cross_entropy"
   ]
  },
  {
   "cell_type": "code",
   "execution_count": 123,
   "id": "946a5bb7",
   "metadata": {},
   "outputs": [
    {
     "name": "stdout",
     "output_type": "stream",
     "text": [
      "torch.Size([228146, 27])\n",
      "tensor(15.7847, grad_fn=<MulBackward0>)\n"
     ]
    }
   ],
   "source": [
    "for i in range(1):\n",
    "    \n",
    "    X_emb = emb[X].view(-1, block_size*emb_dm)\n",
    "    \n",
    "    inputs = X_emb @ W1 + b1\n",
    "    inputs = torch.tanh(inputs)\n",
    "    logits = inputs @ W2 + b2\n",
    "    \n",
    "    logits = logits.exp()\n",
    "    logits = logits / logits.sum(1, keepdim = True)\n",
    "    print(logits.shape)\n",
    "    prob = logits[torch.arange(len(X)), Y]\n",
    "    \n",
    "    loss = -1*torch.log(prob).mean()\n",
    "    print(loss)\n",
    "    "
   ]
  },
  {
   "cell_type": "code",
   "execution_count": 124,
   "id": "24822e55",
   "metadata": {},
   "outputs": [
    {
     "name": "stdout",
     "output_type": "stream",
     "text": [
      "tensor(14.9954, grad_fn=<NllLossBackward0>)\n"
     ]
    }
   ],
   "source": [
    "for i in range(1):\n",
    "    X_emb = emb[X].view(-1, block_size*emb_dm)\n",
    "    inputs = X_emb @ W1 + b1\n",
    "    inputs = torch.tanh(inputs)\n",
    "    logits = inputs @ W2\n",
    "    \n",
    "#     logits = logits.exp()\n",
    "#     logits = logits / logits.sum(1, keepdim = True)\n",
    "#     print(logits.shape)\n",
    "#     prob = logits[torch.arange(len(X)), Y]\n",
    "    \n",
    "#     loss = -1*torch.log(prob).mean()\n",
    "    loss = F.cross_entropy(logits,Y)\n",
    "    print(loss)\n",
    "    "
   ]
  },
  {
   "cell_type": "code",
   "execution_count": null,
   "id": "23d43fa0",
   "metadata": {},
   "outputs": [],
   "source": []
  },
  {
   "cell_type": "markdown",
   "id": "c27e9916",
   "metadata": {},
   "source": [
    "### Train our NN\n",
    "\n",
    "This is just training on 32 data, \n",
    "\n",
    "In this case, we are overfitting our data, i.e we have enormous weights vs very less data (i.e 32)\n",
    "\n",
    "so, our weights are memorizing these examples very easily"
   ]
  },
  {
   "cell_type": "code",
   "execution_count": 130,
   "id": "e32ea823",
   "metadata": {},
   "outputs": [
    {
     "name": "stdout",
     "output_type": "stream",
     "text": [
      "tensor(0.2572, grad_fn=<NllLossBackward0>)\n"
     ]
    }
   ],
   "source": [
    "for i in range(1000):\n",
    "    \n",
    "    X_emb = emb[X[:32]].view(-1, block_size*emb_dm)\n",
    "    inputs = X_emb @ W1 + b1\n",
    "    inputs = torch.tanh(inputs)\n",
    "    logits = inputs @ W2 + b2\n",
    "    \n",
    "    loss = F.cross_entropy(logits,Y[:32])\n",
    "\n",
    "    \n",
    "    ## Zero out the gradient\n",
    "    for p in parameters:\n",
    "        p.grad = None\n",
    "        \n",
    "    loss.backward()\n",
    "    lr = 0.1\n",
    "    \n",
    "    for p in parameters:\n",
    "        p.data += -lr*p.grad \n",
    "\n",
    "print(loss)"
   ]
  },
  {
   "cell_type": "code",
   "execution_count": null,
   "id": "273ef2a0",
   "metadata": {},
   "outputs": [],
   "source": []
  },
  {
   "cell_type": "code",
   "execution_count": 136,
   "id": "ace25758",
   "metadata": {},
   "outputs": [],
   "source": []
  },
  {
   "cell_type": "markdown",
   "id": "1b75b0bf",
   "metadata": {},
   "source": [
    "### Mini-batches"
   ]
  },
  {
   "cell_type": "markdown",
   "id": "fc0f1dd7",
   "metadata": {},
   "source": [
    "in practice we don't calculate our loss on whole data set, but only on mini-batches and run it more iterations. \n",
    "\n",
    "by doing this we are frequently updating our parameters.\n",
    "\n",
    "Reason for doing this ?\n",
    "\n",
    "1. Scales better with large dataset, we can parallely train.\n",
    "\n",
    "2. Calculating loss on the whole training data smoothens gradients, potentially leading to overfitting if the model gets stuck in sharp local minima.\n",
    "\n",
    "3. Mini-batch training introduces some noise into the gradient updates because they are computed on a subset of the data. This noise can help the model escape local minima or saddle points and explore the parameter space better, potentially leading to improved generalization"
   ]
  },
  {
   "cell_type": "code",
   "execution_count": 148,
   "id": "7e48f400",
   "metadata": {},
   "outputs": [
    {
     "name": "stdout",
     "output_type": "stream",
     "text": [
      "tensor(2.4929, grad_fn=<NllLossBackward0>)\n"
     ]
    }
   ],
   "source": [
    "for i in range(1000):\n",
    "    \n",
    "    # picking mini batches of size 32 from the whole dataset\n",
    "    \n",
    "    mb = torch.randint(0, X.shape[0], (32,))\n",
    "    X_emb = emb[X[mb]].view(-1, block_size*emb_dm)\n",
    "    inputs = X_emb @ W1 + b1\n",
    "    inputs = torch.tanh(inputs)\n",
    "    logits = inputs @ W2 + b2\n",
    "    \n",
    "    loss = F.cross_entropy(logits,Y[mb])\n",
    "\n",
    "    \n",
    "    ## Zero out the gradient\n",
    "    for p in parameters:\n",
    "        p.grad = None\n",
    "        \n",
    "    loss.backward()\n",
    "    lr = 0.1\n",
    "    \n",
    "    for p in parameters:\n",
    "        p.data += -lr*p.grad \n",
    "\n",
    "print(loss)"
   ]
  },
  {
   "cell_type": "markdown",
   "id": "666e6d53",
   "metadata": {},
   "source": [
    "### Let's choose decent learning rate"
   ]
  },
  {
   "cell_type": "code",
   "execution_count": 203,
   "id": "556db8c4",
   "metadata": {},
   "outputs": [],
   "source": [
    "w_dim = 100\n",
    "\n",
    "W1 = torch.randn(block_size*emb_dm, w_dim, requires_grad=True)\n",
    "b1 = torch.randn(w_dim, requires_grad = True)\n",
    "\n",
    "W2 = torch.randn(w_dim, len(stoi), requires_grad=True)\n",
    "b2 = torch.randn(len(stoi), requires_grad = True)\n",
    "\n",
    "parameters = [W1, b1, W2, b2]"
   ]
  },
  {
   "cell_type": "code",
   "execution_count": 204,
   "id": "c1b16957",
   "metadata": {},
   "outputs": [],
   "source": [
    "lre = torch.linspace(-3, 0, 1000)\n",
    "lrs = 10**lre\n",
    "\n",
    "lre_list = []\n",
    "loss_list = []"
   ]
  },
  {
   "cell_type": "code",
   "execution_count": 205,
   "id": "98e481a3",
   "metadata": {},
   "outputs": [
    {
     "name": "stdout",
     "output_type": "stream",
     "text": [
      "tensor(4.8102, grad_fn=<NllLossBackward0>)\n"
     ]
    }
   ],
   "source": [
    "for i in range(1000):\n",
    "    \n",
    "    # picking mini batches of size 32 from the whole dataset\n",
    "    \n",
    "    mb = torch.randint(0, X.shape[0], (32,))\n",
    "    X_emb = emb[X[mb]].view(-1, block_size*emb_dm)\n",
    "    \n",
    "    inputs = X_emb @ W1 + b1\n",
    "    inputs = torch.tanh(inputs)\n",
    "    logits = inputs @ W2 + b2\n",
    "    \n",
    "    loss = F.cross_entropy(logits,Y[mb])\n",
    "\n",
    "    \n",
    "    ## Zero out the gradient\n",
    "    for p in parameters:\n",
    "        p.grad = None\n",
    "        \n",
    "    loss.backward()\n",
    "    lr = 0.1\n",
    "    \n",
    "    for p in parameters:\n",
    "        p.data += -lrs[i]*p.grad \n",
    "\n",
    "    lre_list.append(lre[i])\n",
    "    loss_list.append(loss.item())\n",
    "    \n",
    "    \n",
    "print(loss)"
   ]
  },
  {
   "cell_type": "code",
   "execution_count": 206,
   "id": "482d6a13",
   "metadata": {},
   "outputs": [
    {
     "data": {
      "text/plain": [
       "[<matplotlib.lines.Line2D at 0x2966eacc0>]"
      ]
     },
     "execution_count": 206,
     "metadata": {},
     "output_type": "execute_result"
    },
    {
     "data": {
      "image/png": "[encoded data removed]",
      "text/plain": [
       "<Figure size 640x480 with 1 Axes>"
      ]
     },
     "metadata": {},
     "output_type": "display_data"
    }
   ],
   "source": [
    "plt.plot(lre_list, loss_list)"
   ]
  },
  {
   "cell_type": "markdown",
   "id": "3517fe4e",
   "metadata": {},
   "source": [
    "loss on whole data"
   ]
  },
  {
   "cell_type": "code",
   "execution_count": 207,
   "id": "17e3a414",
   "metadata": {},
   "outputs": [
    {
     "data": {
      "text/plain": [
       "tensor(6.1626, grad_fn=<NllLossBackward0>)"
      ]
     },
     "execution_count": 207,
     "metadata": {},
     "output_type": "execute_result"
    }
   ],
   "source": [
    "X_emb = emb[X].view(-1, block_size*emb_dm)\n",
    "\n",
    "inputs = X_emb @ W1 + b1\n",
    "inputs = torch.tanh(inputs)\n",
    "logits = inputs @ W2 + b2\n",
    "\n",
    "loss = F.cross_entropy(logits,Y)\n",
    "loss"
   ]
  },
  {
   "cell_type": "code",
   "execution_count": null,
   "id": "d2e55730",
   "metadata": {},
   "outputs": [],
   "source": []
  },
  {
   "cell_type": "markdown",
   "id": "3f5d6792",
   "metadata": {},
   "source": [
    "### Lets try to optimize loss\n"
   ]
  },
  {
   "cell_type": "code",
   "execution_count": 223,
   "id": "f1110138",
   "metadata": {},
   "outputs": [],
   "source": [
    "w_dim = 100\n",
    "\n",
    "W1 = torch.randn(block_size*emb_dm, w_dim, requires_grad=True)\n",
    "b1 = torch.randn(w_dim, requires_grad = True)\n",
    "\n",
    "W2 = torch.randn(w_dim, len(stoi), requires_grad=True)\n",
    "b2 = torch.randn(len(stoi), requires_grad = True)\n",
    "\n",
    "parameters = [W1, b1, W2, b2]"
   ]
  },
  {
   "cell_type": "code",
   "execution_count": 282,
   "id": "4b7e037f",
   "metadata": {},
   "outputs": [
    {
     "name": "stdout",
     "output_type": "stream",
     "text": [
      "tensor(2.3864, grad_fn=<NllLossBackward0>)\n"
     ]
    }
   ],
   "source": [
    "\n",
    "\n",
    "for i in range(10000):\n",
    "    \n",
    "    # picking mini batches of size 32 from the whole dataset\n",
    "    \n",
    "    mb = torch.randint(0, X.shape[0], (32,))\n",
    "    X_emb = emb[X[mb]].view(-1, block_size*emb_dm)\n",
    "    \n",
    "    inputs = X_emb @ W1 + b1\n",
    "    inputs = torch.tanh(inputs)\n",
    "    logits = inputs @ W2 + b2\n",
    "    \n",
    "    loss = F.cross_entropy(logits,Y[mb])\n",
    "\n",
    "    \n",
    "    ## Zero out the gradient\n",
    "    for p in parameters:\n",
    "        p.grad = None\n",
    "        \n",
    "    loss.backward()\n",
    "    \n",
    "    # This is a good learning rate, determined from the plot above\n",
    "    lr = 0.001\n",
    "    \n",
    "    for p in parameters:\n",
    "        p.data += -lr*p.grad \n",
    "\n",
    "\n",
    "    \n",
    "print(loss)"
   ]
  },
  {
   "cell_type": "code",
   "execution_count": 283,
   "id": "8cb39eed",
   "metadata": {},
   "outputs": [],
   "source": [
    "mb = torch.randint(0, X.shape[0], (32,))\n",
    "X_emb = emb[X].view(-1, block_size*emb_dm)\n",
    "\n",
    "inputs = X_emb @ W1 + b1\n",
    "inputs = torch.tanh(inputs)\n",
    "logits = inputs @ W2 + b2\n",
    "\n",
    "loss = F.cross_entropy(logits,Y)"
   ]
  },
  {
   "cell_type": "code",
   "execution_count": 284,
   "id": "e05efe10",
   "metadata": {},
   "outputs": [
    {
     "data": {
      "text/plain": [
       "tensor(2.2467, grad_fn=<NllLossBackward0>)"
      ]
     },
     "execution_count": 284,
     "metadata": {},
     "output_type": "execute_result"
    }
   ],
   "source": [
    "loss"
   ]
  },
  {
   "cell_type": "markdown",
   "id": "76a3e587",
   "metadata": {},
   "source": [
    "### Concept of overfitting\n",
    "\n",
    "when we have small data but large parameters, the parameters will memorize our training data resulting in lower loss on the training set, but it would not yield better results, because all its doing is memorizing, and when it sees new data, loss would be very high.\n",
    "\n",
    "The way to see if it is overfitting or not is by diving the data into train, dev, and test dataset"
   ]
  },
  {
   "cell_type": "code",
   "execution_count": null,
   "id": "bdf8d387",
   "metadata": {},
   "outputs": [],
   "source": []
  },
  {
   "cell_type": "code",
   "execution_count": 287,
   "id": "70b78d96",
   "metadata": {},
   "outputs": [],
   "source": [
    "Xtrn,Ytrn = X[:int(0.8*X.shape[0])], Y[:int(0.8*Y.shape[0])]"
   ]
  },
  {
   "cell_type": "code",
   "execution_count": 289,
   "id": "40145048",
   "metadata": {},
   "outputs": [],
   "source": [
    "Xdev, Ydev = X[int(0.8*X.shape[0]): int(0.9*X.shape[0])], Y[int(0.8*Y.shape[0]) : int(0.9*Y.shape[0])]"
   ]
  },
  {
   "cell_type": "code",
   "execution_count": 291,
   "id": "d94f0a18",
   "metadata": {},
   "outputs": [],
   "source": [
    "Xtest,Ytest = X[int(0.9*X.shape[0]):], Y[int(0.9*Y.shape[0]):]"
   ]
  },
  {
   "cell_type": "code",
   "execution_count": 295,
   "id": "9b75e41f",
   "metadata": {},
   "outputs": [
    {
     "data": {
      "text/plain": [
       "torch.Size([182516, 3])"
      ]
     },
     "execution_count": 295,
     "metadata": {},
     "output_type": "execute_result"
    }
   ],
   "source": [
    "Xtrn.shape"
   ]
  },
  {
   "cell_type": "code",
   "execution_count": 444,
   "id": "5bee91be",
   "metadata": {},
   "outputs": [],
   "source": [
    "w_dim = 100\n",
    "emb_dm = 10\n",
    "\n",
    "emb = torch.randn((len(stoi), emb_dm),  requires_grad = True)\n",
    "\n",
    "W1 = torch.randn(block_size*emb_dm, w_dim, requires_grad=True)\n",
    "b1 = torch.randn(w_dim, requires_grad = True)\n",
    "\n",
    "W2 = torch.randn(w_dim, len(stoi), requires_grad=True)\n",
    "b2 = torch.randn(len(stoi), requires_grad = True)\n",
    "\n",
    "parameters = [emb, W1, b1, W2, b2]"
   ]
  },
  {
   "cell_type": "code",
   "execution_count": 445,
   "id": "efb98750",
   "metadata": {},
   "outputs": [],
   "source": [
    "lossi = []\n",
    "stepi = []"
   ]
  },
  {
   "cell_type": "code",
   "execution_count": 446,
   "id": "dfa974f6",
   "metadata": {},
   "outputs": [],
   "source": [
    "\n",
    "\n",
    "for i in range(200000):\n",
    "    \n",
    "    # picking mini batches of size 32 from the whole dataset\n",
    "    \n",
    "    mb = torch.randint(0, Xtrn.shape[0], (32,))\n",
    "    X_emb = emb[X[mb]].view(-1, block_size*emb_dm)\n",
    "    \n",
    "    inputs = X_emb @ W1 + b1\n",
    "    inputs = torch.tanh(inputs)\n",
    "    logits = inputs @ W2 + b2\n",
    "    \n",
    "    loss = F.cross_entropy(logits,Ytrn[mb])\n",
    "\n",
    "    \n",
    "    ## Zero out the gradient\n",
    "    for p in parameters:\n",
    "        p.grad = None\n",
    "        \n",
    "    loss.backward()\n",
    "    \n",
    "    # This is a good learning rate, determined from the plot above\n",
    "    lr = 0.1 if i < 100000 else 0.01\n",
    "    \n",
    "    for p in parameters:\n",
    "        p.data += -lr*p.grad \n",
    "\n",
    "    stepi.append(i)\n",
    "    lossi.append(loss.item())\n",
    "    \n"
   ]
  },
  {
   "cell_type": "code",
   "execution_count": 447,
   "id": "135b678c",
   "metadata": {},
   "outputs": [
    {
     "data": {
      "text/plain": [
       "[<matplotlib.lines.Line2D at 0x3d0fb0fb0>]"
      ]
     },
     "execution_count": 447,
     "metadata": {},
     "output_type": "execute_result"
    },
    {
     "data": {
      "image/png": "[encoded data removed]",
      "text/plain": [
       "<Figure size 640x480 with 1 Axes>"
      ]
     },
     "metadata": {},
     "output_type": "display_data"
    }
   ],
   "source": [
    "plt.plot(stepi, lossi)"
   ]
  },
  {
   "cell_type": "code",
   "execution_count": 448,
   "id": "12a98752",
   "metadata": {},
   "outputs": [
    {
     "data": {
      "text/plain": [
       "tensor(2.7993, grad_fn=<NllLossBackward0>)"
      ]
     },
     "execution_count": 448,
     "metadata": {},
     "output_type": "execute_result"
    }
   ],
   "source": [
    "\n",
    "X_emb = emb[Xtrn].view(-1, block_size*emb_dm)\n",
    "\n",
    "inputs = X_emb @ W1 + b1\n",
    "inputs = torch.tanh(inputs)\n",
    "logits = inputs @ W2 + b2\n",
    "\n",
    "loss = F.cross_entropy(logits,Ytrn)\n",
    "loss"
   ]
  },
  {
   "cell_type": "code",
   "execution_count": 449,
   "id": "6958174b",
   "metadata": {},
   "outputs": [
    {
     "data": {
      "text/plain": [
       "tensor(2.9169, grad_fn=<NllLossBackward0>)"
      ]
     },
     "execution_count": 449,
     "metadata": {},
     "output_type": "execute_result"
    }
   ],
   "source": [
    "\n",
    "X_emb = emb[Xdev].view(-1, block_size*emb_dm)\n",
    "\n",
    "inputs = X_emb @ W1 + b1\n",
    "inputs = torch.tanh(inputs)\n",
    "logits = inputs @ W2 + b2\n",
    "\n",
    "loss = F.cross_entropy(logits,Ydev)\n",
    "loss"
   ]
  },
  {
   "cell_type": "code",
   "execution_count": null,
   "id": "6b29c252",
   "metadata": {},
   "outputs": [],
   "source": []
  },
  {
   "cell_type": "markdown",
   "id": "6ea16880",
   "metadata": {},
   "source": [
    "### Sample "
   ]
  },
  {
   "cell_type": "code",
   "execution_count": 453,
   "id": "fc3a2eae",
   "metadata": {},
   "outputs": [
    {
     "name": "stdout",
     "output_type": "stream",
     "text": [
      "felylnryeenojai.\n",
      "nnlkenh.\n",
      "onreaalclfnmpypdiie.\n",
      "al.\n",
      "zvzlanzd.\n",
      "hytodpelm.\n",
      "kzkelshaukg.\n",
      "mtiil.\n",
      "he.\n",
      "bieiluerhryn.\n",
      "y.\n",
      "via.\n",
      "h.\n",
      "k.\n",
      "ve.\n",
      "obokrlryalazl.\n",
      "ayynmglo.\n",
      "h.\n",
      "ert.\n",
      ".\n"
     ]
    }
   ],
   "source": [
    "# sample from the model\n",
    "g = torch.Generator().manual_seed(2147483647 + 100)\n",
    "\n",
    "for _ in range(20):\n",
    "\n",
    "    out = []\n",
    "    context = [0] * block_size  # initialize with all ...\n",
    "    while True:\n",
    "        emb_new = emb[torch.tensor([context])]  # (1,block_size,d)\n",
    "        h = torch.tanh(emb_new.view(1, -1) @ W1 + b1)\n",
    "        logits = h @ W2 + b2\n",
    "        probs = F.softmax(logits, dim=1)\n",
    "        ix = torch.multinomial(probs, num_samples=1, generator=g).item()\n",
    "        context = context[1:] + [ix]\n",
    "        out.append(ix)\n",
    "        if ix == 0:\n",
    "            break\n",
    "\n",
    "    print(\"\".join(itos[i] for i in out))\n"
   ]
  },
  {
   "cell_type": "code",
   "execution_count": null,
   "id": "8560d7c1",
   "metadata": {},
   "outputs": [],
   "source": []
  }
 ],
 "metadata": {
  "kernelspec": {
   "display_name": "deep_learning",
   "language": "python",
   "name": "deep_learning"
  },
  "language_info": {
   "codemirror_mode": {
    "name": "ipython",
    "version": 3
   },
   "file_extension": ".py",
   "mimetype": "text/x-python",
   "name": "python",
   "nbconvert_exporter": "python",
   "pygments_lexer": "ipython3",
   "version": "3.12.7"
  }
 },
 "nbformat": 4,
 "nbformat_minor": 5
}
