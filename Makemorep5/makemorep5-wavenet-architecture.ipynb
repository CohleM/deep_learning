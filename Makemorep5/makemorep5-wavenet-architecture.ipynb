{
 "cells": [
  {
   "cell_type": "code",
   "execution_count": 248,
   "id": "393128c5",
   "metadata": {},
   "outputs": [],
   "source": [
    "import torch\n",
    "import torch.nn.functional as F\n",
    "import matplotlib.pyplot as plt # for making figures\n",
    "%matplotlib inline"
   ]
  },
  {
   "cell_type": "code",
   "execution_count": 249,
   "id": "ca1d82db",
   "metadata": {},
   "outputs": [
    {
     "data": {
      "text/plain": [
       "['emma', 'olivia', 'ava', 'isabella', 'sophia', 'charlotte', 'mia', 'amelia']"
      ]
     },
     "execution_count": 249,
     "metadata": {},
     "output_type": "execute_result"
    }
   ],
   "source": [
    "# read in all the words\n",
    "words = open('names.txt', 'r').read().splitlines()\n",
    "words[:8]"
   ]
  },
  {
   "cell_type": "code",
   "execution_count": 250,
   "id": "e8dade0f",
   "metadata": {},
   "outputs": [
    {
     "name": "stdout",
     "output_type": "stream",
     "text": [
      "{1: 'a', 2: 'b', 3: 'c', 4: 'd', 5: 'e', 6: 'f', 7: 'g', 8: 'h', 9: 'i', 10: 'j', 11: 'k', 12: 'l', 13: 'm', 14: 'n', 15: 'o', 16: 'p', 17: 'q', 18: 'r', 19: 's', 20: 't', 21: 'u', 22: 'v', 23: 'w', 24: 'x', 25: 'y', 26: 'z', 0: '.'}\n",
      "27\n"
     ]
    }
   ],
   "source": [
    "# build the vocabulary of characters and mappings to/from integers\n",
    "chars = sorted(list(set(''.join(words))))\n",
    "stoi = {s:i+1 for i,s in enumerate(chars)}\n",
    "stoi['.'] = 0\n",
    "itos = {i:s for s,i in stoi.items()}\n",
    "vocab_size = len(itos)\n",
    "print(itos)\n",
    "print(vocab_size)"
   ]
  },
  {
   "cell_type": "code",
   "execution_count": 251,
   "id": "6827eaf2",
   "metadata": {},
   "outputs": [
    {
     "name": "stdout",
     "output_type": "stream",
     "text": [
      "torch.Size([182625, 8]) torch.Size([182625])\n",
      "torch.Size([22655, 8]) torch.Size([22655])\n",
      "torch.Size([22866, 8]) torch.Size([22866])\n"
     ]
    }
   ],
   "source": [
    "# build the dataset\n",
    "block_size = (\n",
    "    8  # context length: how many characters do we take to predict the next one?\n",
    ")\n",
    "\n",
    "\n",
    "def build_dataset(words):\n",
    "    X, Y = [], []\n",
    "\n",
    "    for w in words:\n",
    "        context = [0] * block_size\n",
    "        for ch in w + \".\":\n",
    "            ix = stoi[ch]\n",
    "            X.append(context)\n",
    "            Y.append(ix)\n",
    "            context = context[1:] + [ix]  # crop and append\n",
    "\n",
    "    X = torch.tensor(X)\n",
    "    Y = torch.tensor(Y)\n",
    "    print(X.shape, Y.shape)\n",
    "    return X, Y\n",
    "\n",
    "\n",
    "import random\n",
    "\n",
    "random.seed(42)\n",
    "random.shuffle(words)\n",
    "n1 = int(0.8 * len(words))\n",
    "n2 = int(0.9 * len(words))\n",
    "\n",
    "Xtr, Ytr = build_dataset(words[:n1])  # 80%\n",
    "Xdev, Ydev = build_dataset(words[n1:n2])  # 10%\n",
    "Xte, Yte = build_dataset(words[n2:])  # 10%\n"
   ]
  },
  {
   "cell_type": "markdown",
   "id": "7d59f742",
   "metadata": {},
   "source": [
    "### Loss on dev set"
   ]
  },
  {
   "cell_type": "code",
   "execution_count": 22,
   "id": "5723dc41",
   "metadata": {},
   "outputs": [
    {
     "ename": "NameError",
     "evalue": "name 'layers' is not defined",
     "output_type": "error",
     "traceback": [
      "\u001b[0;31m---------------------------------------------------------------------------\u001b[0m",
      "\u001b[0;31mNameError\u001b[0m                                 Traceback (most recent call last)",
      "Cell \u001b[0;32mIn[22], line 16\u001b[0m\n\u001b[1;32m     13\u001b[0m   \u001b[38;5;28mprint\u001b[39m(split, loss\u001b[38;5;241m.\u001b[39mitem())\n\u001b[1;32m     15\u001b[0m \u001b[38;5;66;03m# put layers into eval mode\u001b[39;00m\n\u001b[0;32m---> 16\u001b[0m \u001b[38;5;28;01mfor\u001b[39;00m layer \u001b[38;5;129;01min\u001b[39;00m layers:\n\u001b[1;32m     17\u001b[0m   layer\u001b[38;5;241m.\u001b[39mtraining \u001b[38;5;241m=\u001b[39m \u001b[38;5;28;01mFalse\u001b[39;00m\n\u001b[1;32m     18\u001b[0m split_loss(\u001b[38;5;124m'\u001b[39m\u001b[38;5;124mtrain\u001b[39m\u001b[38;5;124m'\u001b[39m)\n",
      "\u001b[0;31mNameError\u001b[0m: name 'layers' is not defined"
     ]
    }
   ],
   "source": [
    "@torch.no_grad() # this decorator disables gradient tracking\n",
    "def split_loss(split):\n",
    "  x,y = {\n",
    "    'train': (Xtr, Ytr),\n",
    "    'val': (Xdev, Ydev),\n",
    "    'test': (Xte, Yte),\n",
    "  }[split]\n",
    "  emb = C[x] # (N, block_size, n_embd)\n",
    "  x = emb.view(emb.shape[0], -1) # concat into (N, block_size * n_embd)\n",
    "  for layer in layers:\n",
    "    x = layer(x)\n",
    "  loss = F.cross_entropy(x, y)\n",
    "  print(split, loss.item())\n",
    "\n",
    "# put layers into eval mode\n",
    "for layer in layers:\n",
    "  layer.training = False\n",
    "split_loss('train')\n",
    "split_loss('val')"
   ]
  },
  {
   "cell_type": "code",
   "execution_count": null,
   "id": "687e119e",
   "metadata": {},
   "outputs": [],
   "source": []
  },
  {
   "cell_type": "markdown",
   "id": "bac5af39",
   "metadata": {},
   "source": [
    "### NEW"
   ]
  },
  {
   "cell_type": "code",
   "execution_count": 75,
   "id": "ea6fd501",
   "metadata": {},
   "outputs": [],
   "source": [
    "# Linear Layer\n",
    "g = torch.Generator().manual_seed(2147483647) # for reproducibility\n",
    "\n",
    "\n",
    "class Layer:\n",
    "    def __init__(self,fan_in, fan_out, bias=False):\n",
    "        self.w = torch.randn((fan_in, fan_out),generator = g) #/ (fan_in)**(0.5) # applying kaiming init\n",
    "        self.bias = bias\n",
    "        if bias:\n",
    "            self.b = torch.zeros(fan_out)\n",
    "            \n",
    "    def __call__(self, x):\n",
    "        y = x @ self.w\n",
    "        self.out = y + self.b if self.bias else y\n",
    "        return self.out\n",
    "    \n",
    "\n",
    "    def parameters(self):\n",
    "        \n",
    "        return [self.w] + [self.b] if self.bias else [self.w]\n",
    "    \n",
    "class Tanh:\n",
    "\n",
    "    def __call__(self, x):\n",
    "        self.out = torch.tanh(x)\n",
    "        return self.out\n",
    "    \n",
    "    def parameters(self):\n",
    "        return []\n",
    "    \n",
    "\n",
    "class BatchNormalization1:\n",
    "    def __init__(self,nf, eps= 1e-5, mom=0.1):\n",
    "        self.bngain = torch.ones(nf)\n",
    "        self.bnbias = torch.zeros(nf)\n",
    "        self.out = None\n",
    "        self.mom = mom\n",
    "        self.training = True\n",
    "        self.running_mean = torch.ones(nf)\n",
    "        self.running_var = torch.zeros(nf)\n",
    "        self.eps = eps\n",
    "    \n",
    "    def __call__(self,x):\n",
    "        \n",
    "        if self.training:\n",
    "            meani = x.mean(0, keepdim = True)\n",
    "            vari = x.var(0, keepdim = True)\n",
    "            \n",
    "        else:\n",
    "            meani = self.running_mean\n",
    "            vari = self.running_var\n",
    "            \n",
    "        if self.training:\n",
    "            with torch.no_grad():\n",
    "                self.running_mean = (1-self.mom)*self.running_mean + self.mom*meani\n",
    "                self.running_var = (1-self.mom)*self.running_var + self.mom*vari\n",
    "\n",
    "        self.out = self.bngain *((x - meani)/ torch.sqrt(vari + self.eps)) + self.bnbias\n",
    "\n",
    "        return self.out\n",
    "    \n",
    "    def parameters(self):\n",
    "        return [self.bngain, self.bnbias]"
   ]
  },
  {
   "cell_type": "code",
   "execution_count": 76,
   "id": "f6c5f1d3",
   "metadata": {},
   "outputs": [
    {
     "name": "stdout",
     "output_type": "stream",
     "text": [
      "173724\n"
     ]
    }
   ],
   "source": [
    "import torch.nn.functional as F\n",
    "\n",
    "\n",
    "x = torch.randn(32, 30, generator = g)\n",
    "y = torch.tensor([random.randint(0,26) for _ in range(32)] )\n",
    "\n",
    "# Embedding layer,\n",
    "n_embd = 10\n",
    "n_vocab = 27\n",
    "n_dim = 200\n",
    "batch_size = 32\n",
    "C = torch.randn((n_vocab,n_embd))\n",
    "block_size = 3\n",
    "\n",
    "st = [\n",
    "    # x shape = 32, 30\n",
    "    Layer(n_embd*block_size,n_dim), BatchNormalization1(n_dim), Tanh(), \n",
    "    Layer(n_dim, n_dim), BatchNormalization1(n_dim), Tanh(),\n",
    "    Layer(n_dim, n_dim), BatchNormalization1(n_dim), Tanh(),\n",
    "    Layer(n_dim, n_dim), BatchNormalization1(n_dim), Tanh(),\n",
    "    Layer(n_dim, n_dim), BatchNormalization1(n_dim), Tanh(),\n",
    "    Layer(n_dim, n_vocab),BatchNormalization1(n_vocab)\n",
    "]\n",
    "\n",
    "\n",
    "with torch.no_grad():\n",
    "    st[-1].bngain *= 0.1\n",
    "    \n",
    "    for layer in st[:-1]:\n",
    "        if isinstance(layer, Layer):\n",
    "            layer.w *= 1\n",
    "\n",
    "\n",
    "\n",
    "parameters = [C] + [p for l in st for p in l.parameters()]\n",
    "for p in parameters:\n",
    "    p.requires_grad = True\n",
    "    \n",
    "print(sum(p.nelement() for p in parameters)) "
   ]
  },
  {
   "cell_type": "code",
   "execution_count": null,
   "id": "01950dcc",
   "metadata": {},
   "outputs": [],
   "source": []
  },
  {
   "cell_type": "code",
   "execution_count": 77,
   "id": "9bc8904a",
   "metadata": {},
   "outputs": [
    {
     "data": {
      "text/plain": [
       "torch.Size([32])"
      ]
     },
     "execution_count": 77,
     "metadata": {},
     "output_type": "execute_result"
    }
   ],
   "source": [
    "y.shape"
   ]
  },
  {
   "cell_type": "code",
   "execution_count": 78,
   "id": "c34ae586",
   "metadata": {},
   "outputs": [
    {
     "name": "stdout",
     "output_type": "stream",
     "text": [
      "0/ 200000 3.2973792552948\n",
      "10000/ 200000 2.1864802837371826\n",
      "20000/ 200000 2.300016403198242\n",
      "30000/ 200000 1.9824109077453613\n",
      "40000/ 200000 2.1860222816467285\n",
      "50000/ 200000 1.8747204542160034\n",
      "60000/ 200000 2.260319709777832\n",
      "70000/ 200000 1.7065367698669434\n",
      "80000/ 200000 2.3220694065093994\n",
      "90000/ 200000 2.0555713176727295\n",
      "100000/ 200000 2.5860719680786133\n",
      "110000/ 200000 2.0385117530822754\n",
      "120000/ 200000 2.1151678562164307\n",
      "130000/ 200000 2.1560330390930176\n",
      "140000/ 200000 2.6655075550079346\n",
      "150000/ 200000 2.697312831878662\n",
      "160000/ 200000 2.5881714820861816\n",
      "170000/ 200000 1.780798077583313\n",
      "180000/ 200000 1.9704279899597168\n",
      "190000/ 200000 2.2696027755737305\n"
     ]
    }
   ],
   "source": [
    "lossi = []\n",
    "        \n",
    "for iteration in range(200000):\n",
    "    \n",
    "    # for iteration in range(2000):\n",
    "    idx = torch.randint(0,Xtr.shape[0], (batch_size,))\n",
    "    Xb, Yb = Xtr[idx], Ytr[idx]\n",
    "    \n",
    "    x_emb = C[Xb].view(-1, block_size * n_embd)\n",
    "    x = x_emb\n",
    "    for idx,item in enumerate(st):\n",
    "#         print(idx)\n",
    "        x = item(x)\n",
    "\n",
    "    loss = F.cross_entropy(x,Yb)\n",
    "    \n",
    "    for layer in st:\n",
    "        layer.out.retain_grad() \n",
    "        \n",
    "    for p in parameters:\n",
    "        p.grad = None\n",
    "\n",
    "    loss.backward()\n",
    "    \n",
    "    lr = 0.1 if iteration < 150000 else 0.01\n",
    "    for p in parameters:\n",
    "\n",
    "        p.data += -lr*p.grad\n",
    "    \n",
    "    if iteration % 10000 ==0:\n",
    "        print(f'{iteration}/ 200000', loss.item())\n",
    "\n",
    "    \n",
    "    lossi.append(loss.item())\n",
    "#     if iteration >= 10000:\n",
    "#         break"
   ]
  },
  {
   "cell_type": "code",
   "execution_count": 80,
   "id": "f0bcaea9",
   "metadata": {},
   "outputs": [
    {
     "name": "stdout",
     "output_type": "stream",
     "text": [
      "train 2.077183246612549\n",
      "val 2.1162490844726562\n"
     ]
    }
   ],
   "source": [
    "@torch.no_grad() # this decorator disables gradient tracking\n",
    "def split_loss(split):\n",
    "  x,y = {\n",
    "    'train': (Xtr, Ytr),\n",
    "    'val': (Xdev, Ydev),\n",
    "    'test': (Xte, Yte),\n",
    "  }[split]\n",
    "  emb = C[x] # (N, block_size, n_embd)\n",
    "  x = emb.view(emb.shape[0], -1) # concat into (N, block_size * n_embd)\n",
    "  for layer in st:\n",
    "    x = layer(x)\n",
    "  loss = F.cross_entropy(x, y)\n",
    "  print(split, loss.item())\n",
    "\n",
    "# put layers into eval mode\n",
    "for layer in st:\n",
    "  layer.training = False\n",
    "split_loss('train')\n",
    "split_loss('val')"
   ]
  },
  {
   "cell_type": "code",
   "execution_count": null,
   "id": "d4b3e1e7",
   "metadata": {},
   "outputs": [],
   "source": []
  },
  {
   "cell_type": "code",
   "execution_count": 99,
   "id": "6f6cb277",
   "metadata": {},
   "outputs": [
    {
     "data": {
      "text/plain": [
       "torch.Size([200])"
      ]
     },
     "execution_count": 99,
     "metadata": {},
     "output_type": "execute_result"
    }
   ],
   "source": []
  },
  {
   "cell_type": "code",
   "execution_count": 102,
   "id": "7e3b01c3",
   "metadata": {},
   "outputs": [
    {
     "data": {
      "image/png": "[encoded data removed]",
      "text/plain": [
       "<Figure size 640x480 with 1 Axes>"
      ]
     },
     "metadata": {},
     "output_type": "display_data"
    }
   ],
   "source": [
    "plt.plot(lossi)\n",
    "plt.show()"
   ]
  },
  {
   "cell_type": "code",
   "execution_count": 101,
   "id": "1c82b1ac",
   "metadata": {},
   "outputs": [
    {
     "data": {
      "image/png": "[encoded data removed]",
      "text/plain": [
       "<Figure size 640x480 with 1 Axes>"
      ]
     },
     "metadata": {},
     "output_type": "display_data"
    }
   ],
   "source": [
    "\n",
    "nli = torch.tensor(lossi).view(200,-1).mean(1)\n",
    "nli.shape\n",
    "plt.plot(nli)\n",
    "plt.show()"
   ]
  },
  {
   "cell_type": "code",
   "execution_count": null,
   "id": "c2598504",
   "metadata": {},
   "outputs": [],
   "source": []
  },
  {
   "cell_type": "markdown",
   "id": "e63d88fc",
   "metadata": {},
   "source": [
    "### WaveNet"
   ]
  },
  {
   "cell_type": "code",
   "execution_count": 280,
   "id": "fe429334",
   "metadata": {},
   "outputs": [
    {
     "data": {
      "text/plain": [
       "2"
      ]
     },
     "execution_count": 280,
     "metadata": {},
     "output_type": "execute_result"
    }
   ],
   "source": [
    "len(Xtr.shape)"
   ]
  },
  {
   "cell_type": "code",
   "execution_count": 281,
   "id": "1967d6f9",
   "metadata": {},
   "outputs": [],
   "source": [
    "# Linear Layer\n",
    "g = torch.Generator().manual_seed(2147483647) # for reproducibility\n",
    "\n",
    "\n",
    "class Layer:\n",
    "    def __init__(self,fan_in, fan_out, bias=False):\n",
    "        self.w = torch.randn((fan_in, fan_out),generator = g) #/ (fan_in)**(0.5) # applying kaiming init\n",
    "        self.bias = bias\n",
    "        if bias:\n",
    "            self.b = torch.zeros(fan_out)\n",
    "            \n",
    "    def __call__(self, x):\n",
    "        y = x @ self.w\n",
    "        self.out = y + self.b if self.bias else y\n",
    "        return self.out\n",
    "    \n",
    "\n",
    "    def parameters(self):\n",
    "        \n",
    "        return [self.w] + [self.b] if self.bias else [self.w]\n",
    "    \n",
    "class Tanh:\n",
    "\n",
    "    def __call__(self, x):\n",
    "        self.out = torch.tanh(x)\n",
    "        return self.out\n",
    "    \n",
    "    def parameters(self):\n",
    "        return []\n",
    "    \n",
    "\n",
    "class BatchNormalization1:\n",
    "    def __init__(self,nf, eps= 1e-5, mom=0.1):\n",
    "        self.bngain = torch.ones(nf)\n",
    "        self.bnbias = torch.zeros(nf)\n",
    "        self.out = None\n",
    "        self.mom = mom\n",
    "        self.training = True\n",
    "        self.running_mean = torch.ones(nf)\n",
    "        self.running_var = torch.zeros(nf)\n",
    "        self.eps = eps\n",
    "    \n",
    "    def __call__(self,x):\n",
    "        \n",
    "        if self.training:\n",
    "            if len(x.shape) == 3:\n",
    "                dim = (0,1)\n",
    "            elif len(x.shape) ==2:\n",
    "                dim = 0\n",
    "            meani = x.mean(dim, keepdim = True)\n",
    "            vari = x.var(dim, keepdim = True)\n",
    "            \n",
    "        else:\n",
    "            meani = self.running_mean\n",
    "            vari = self.running_var\n",
    "            \n",
    "        if self.training:\n",
    "            with torch.no_grad():\n",
    "                self.running_mean = (1-self.mom)*self.running_mean + self.mom*meani\n",
    "                self.running_var = (1-self.mom)*self.running_var + self.mom*vari\n",
    "\n",
    "        self.out = self.bngain *((x - meani)/ torch.sqrt(vari + self.eps)) + self.bnbias\n",
    "\n",
    "        return self.out\n",
    "    \n",
    "    def parameters(self):\n",
    "        return [self.bngain, self.bnbias]\n",
    "    \n",
    "class EmbeddingLayer:\n",
    "    def __init__(self, n_vocab, n_embed):\n",
    "        self.C = torch.randn(n_vocab,n_embed)\n",
    "        \n",
    "    def __call__(self,x):\n",
    "        out = self.C[x]\n",
    "#         out = out.view(x.shape[0], -1)\n",
    "        return out\n",
    "    \n",
    "    \n",
    "    def parameters(self):\n",
    "        return [self.C]\n",
    "    \n",
    "\n",
    "class Sequential:\n",
    "    def __init__(self,layers):\n",
    "        self.layers = layers\n",
    "        \n",
    "    def __call__(self, x):\n",
    "        for layer in self.layers:\n",
    "            x = layer(x)\n",
    "            \n",
    "        return x\n",
    "    \n",
    "    def parameters(self):\n",
    "        return [p.parameters() for p in self.layers]\n",
    "    \n",
    "class FlattenConsecutive:\n",
    "    def __init__(self,n):\n",
    "        self.n = n\n",
    "        \n",
    "    def __call__(self,x):\n",
    "        B,T,C = x.shape\n",
    "        \n",
    "        x = x.view(B, T//self.n, self.n*C)\n",
    "        \n",
    "        if x.shape[1] == 1:\n",
    "            x = torch.squeeze(x, 1)\n",
    "        self.out = x\n",
    "\n",
    "        return self.out"
   ]
  },
  {
   "cell_type": "code",
   "execution_count": 282,
   "id": "567b510a",
   "metadata": {},
   "outputs": [],
   "source": [
    "class FlattenConsecutive:\n",
    "    def __init__(self,n):\n",
    "        self.n = n\n",
    "        \n",
    "    def __call__(self,x):\n",
    "#         print(x.shape)\n",
    "        B,T,C = x.shape\n",
    "        \n",
    "        x = x.view(B, T//self.n, self.n*C)\n",
    "        \n",
    "        if x.shape[1] == 1:\n",
    "            x = torch.squeeze(x, 1)\n",
    "        self.out = x\n",
    "\n",
    "        return self.out\n",
    "    \n",
    "    def parameters(self):\n",
    "        return []\n"
   ]
  },
  {
   "cell_type": "code",
   "execution_count": 283,
   "id": "d5867960",
   "metadata": {},
   "outputs": [
    {
     "name": "stdout",
     "output_type": "stream",
     "text": [
      "170924\n"
     ]
    }
   ],
   "source": [
    "import torch.nn.functional as F\n",
    "\n",
    "\n",
    "x = torch.randn(32, 30, generator = g)\n",
    "y = torch.tensor([random.randint(0,26) for _ in range(32)] )\n",
    "\n",
    "# Embedding layer,\n",
    "n_embd = 10\n",
    "n_vocab = 27\n",
    "n_dim = 200\n",
    "batch_size = 32\n",
    "\n",
    "block_size = 3\n",
    "\n",
    "\n",
    "layers = [\n",
    "\n",
    "    EmbeddingLayer(n_vocab,n_embd),\n",
    "    FlattenConsecutive(2), Layer(2*n_embd,n_dim), BatchNormalization1(n_dim), Tanh(), \n",
    "    FlattenConsecutive(2), Layer(2*n_dim, n_dim), BatchNormalization1(n_dim), Tanh(),\n",
    "    FlattenConsecutive(2), Layer(2*n_dim, n_dim), BatchNormalization1(n_dim), Tanh(),\n",
    "    Layer(n_dim, n_vocab),BatchNormalization1(n_vocab)\n",
    "]\n",
    "\n",
    "\n",
    "with torch.no_grad():\n",
    "    layers[-1].bngain *= 0.1\n",
    "    \n",
    "    for layer in layers[:-1]:\n",
    "        if isinstance(layer, Layer):\n",
    "            layer.w *= 1\n",
    "\n",
    "model = Sequential(layers)\n",
    "\n",
    "\n",
    "parameters = [p for l in model.parameters() for p in l]\n",
    "for p in parameters:\n",
    "    p.requires_grad = True\n",
    "    \n",
    "print(sum(p.nelement() for p in parameters)) "
   ]
  },
  {
   "cell_type": "code",
   "execution_count": 284,
   "id": "2c37046e",
   "metadata": {},
   "outputs": [
    {
     "name": "stdout",
     "output_type": "stream",
     "text": [
      "0/ 200000 3.316556930541992\n",
      "10000/ 200000 2.261958360671997\n",
      "20000/ 200000 2.220181941986084\n",
      "30000/ 200000 2.179208517074585\n",
      "40000/ 200000 2.218005418777466\n",
      "50000/ 200000 2.23244309425354\n",
      "60000/ 200000 2.2925479412078857\n",
      "70000/ 200000 2.5522890090942383\n",
      "80000/ 200000 2.4725892543792725\n",
      "90000/ 200000 2.2739946842193604\n",
      "100000/ 200000 2.185131549835205\n",
      "110000/ 200000 2.3486740589141846\n",
      "120000/ 200000 2.1432933807373047\n",
      "130000/ 200000 1.917876958847046\n",
      "140000/ 200000 2.0588643550872803\n",
      "150000/ 200000 2.2519259452819824\n",
      "160000/ 200000 2.3521206378936768\n",
      "170000/ 200000 2.418546199798584\n",
      "180000/ 200000 2.228193521499634\n",
      "190000/ 200000 2.394216775894165\n"
     ]
    }
   ],
   "source": [
    "lossi = []\n",
    "        \n",
    "for iteration in range(200000):\n",
    "    \n",
    "    # for iteration in range(2000):\n",
    "    idx = torch.randint(0,Xtr.shape[0], (batch_size,))\n",
    "    Xb, Yb = Xtr[idx], Ytr[idx]\n",
    "    \n",
    "    x = Xb\n",
    "    \n",
    "    logits = model(x)\n",
    "\n",
    "    loss = F.cross_entropy(logits,Yb)\n",
    "    \n",
    "    for p in parameters:\n",
    "        p.grad = None\n",
    "    loss.backward()\n",
    "    \n",
    "    lr = 0.1 if iteration < 150000 else 0.01\n",
    "    \n",
    "    for p in parameters:\n",
    "        p.data += -lr*p.grad\n",
    "    \n",
    "    if iteration % 10000 ==0:\n",
    "        print(f'{iteration}/ 200000', loss.item())\n",
    "\n",
    "    \n",
    "    lossi.append(loss.item())\n"
   ]
  },
  {
   "cell_type": "code",
   "execution_count": 286,
   "id": "1274885c",
   "metadata": {},
   "outputs": [
    {
     "name": "stdout",
     "output_type": "stream",
     "text": [
      "train 2.03531551361084\n",
      "val 2.0824830532073975\n"
     ]
    }
   ],
   "source": [
    "@torch.no_grad() # this decorator disables gradient tracking\n",
    "def split_loss(split):\n",
    "  x,y = {\n",
    "    'train': (Xtr, Ytr),\n",
    "    'val': (Xdev, Ydev),\n",
    "    'test': (Xte, Yte),\n",
    "  }[split]\n",
    "#   for layer in st:\n",
    "#     x = layer(x)\n",
    "  logits = model(x)\n",
    "  loss = F.cross_entropy(logits, y)\n",
    "  print(split, loss.item())\n",
    "\n",
    "# put layers into eval mode\n",
    "for layer in st:\n",
    "  layer.training = False\n",
    "split_loss('train')\n",
    "split_loss('val')"
   ]
  },
  {
   "cell_type": "code",
   "execution_count": null,
   "id": "37189ea6",
   "metadata": {},
   "outputs": [],
   "source": []
  }
 ],
 "metadata": {
  "kernelspec": {
   "display_name": "deep_learning",
   "language": "python",
   "name": "deep_learning"
  },
  "language_info": {
   "codemirror_mode": {
    "name": "ipython",
    "version": 3
   },
   "file_extension": ".py",
   "mimetype": "text/x-python",
   "name": "python",
   "nbconvert_exporter": "python",
   "pygments_lexer": "ipython3",
   "version": "3.12.7"
  }
 },
 "nbformat": 4,
 "nbformat_minor": 5
}
