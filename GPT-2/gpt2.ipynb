{
 "cells": [
  {
   "cell_type": "code",
   "execution_count": 2,
   "id": "3472931f",
   "metadata": {},
   "outputs": [
    {
     "name": "stderr",
     "output_type": "stream",
     "text": [
      "/Users/cohlem/anaconda3/envs/deep_learning/lib/python3.12/site-packages/tqdm/auto.py:21: TqdmWarning: IProgress not found. Please update jupyter and ipywidgets. See https://ipywidgets.readthedocs.io/en/stable/user_install.html\n",
      "  from .autonotebook import tqdm as notebook_tqdm\n"
     ]
    }
   ],
   "source": [
    "from transformers import GPT2LMHeadModel, GPT2Tokenizer"
   ]
  },
  {
   "cell_type": "code",
   "execution_count": 3,
   "id": "b07acab6",
   "metadata": {},
   "outputs": [],
   "source": [
    "model_hf = GPT2LMHeadModel.from_pretrained('gpt2')"
   ]
  },
  {
   "cell_type": "code",
   "execution_count": null,
   "id": "420dc360",
   "metadata": {},
   "outputs": [],
   "source": [
    "['c_attn.weight', 'c_proj.weight','c_fc.weight', 'c_proj.weight', ]"
   ]
  },
  {
   "cell_type": "code",
   "execution_count": 4,
   "id": "0773811a",
   "metadata": {},
   "outputs": [],
   "source": [
    "from torch import nn\n",
    "import torch\n",
    "\n",
    "import torch.nn.functional as F"
   ]
  },
  {
   "cell_type": "code",
   "execution_count": 8,
   "id": "2ef2c63e",
   "metadata": {},
   "outputs": [],
   "source": [
    "check = None"
   ]
  },
  {
   "cell_type": "code",
   "execution_count": 65,
   "id": "0ad317a7",
   "metadata": {},
   "outputs": [
    {
     "name": "stdout",
     "output_type": "stream",
     "text": [
      "> Hello, I'm a language model, I'm doing some work with a lot. I see how many of you are wondering why you are doing this\n",
      "> Hello, I'm a language model, what can I say?\n",
      "\n",
      "\n",
      "Of course its own I am. This model is something entirely separate from\n",
      "> Hello, I'm a language model, please tell my friends about the world.\n",
      "\n",
      "Merry Jesus, I hope you get on here soon.\n",
      "> Hello, I'm a language model, I hope you will find out how to do \"I am here!\" useful in the next week.\"\n",
      "\n",
      "\n",
      "> Hello, I'm a language model, my daughter's not a model. And our best friend here in the world is actually a bad language model,\"\n"
     ]
    }
   ],
   "source": [
    "\n",
    "class Head(nn.Module):\n",
    "    def __init__(self,config):\n",
    "        super().__init__()\n",
    "        self.c_attn = nn.Linear(config.n_embd, 3*config.n_embd)\n",
    "        self.c_proj = nn.Linear(config.n_embd, config.n_embd)\n",
    "        self.register_buffer('tril', torch.tril(torch.ones(config.block_size, config.block_size)))\n",
    "        self.n_embd = config.n_embd\n",
    "        self.n_head = config.n_head\n",
    "    def forward(self,x):\n",
    "        B,T,C = x.shape\n",
    "        qkv = self.c_attn(x)\n",
    "        \n",
    "        Q,K,V = torch.split(qkv,self.n_embd,dim=-1)\n",
    "\n",
    "        \n",
    "        # comment out if using multi head attention\n",
    "        ### ------ multi-head ----------------\n",
    "        assert self.n_embd // self.n_head, 'n_embd and n_head dont comply'\n",
    "        h_dim = self.n_embd // self.n_head\n",
    "        \n",
    "        Q = Q.view(B,T,self.n_head, h_dim)\n",
    "        K = K.view(B,T,self.n_head, h_dim)\n",
    "        V = V.view(B,T,self.n_head, h_dim)\n",
    "        \n",
    "        Q = torch.transpose(Q, 1,2) # transposing (n_head, block_size) cause we'll do matmul operation on block_size and h_dim\n",
    "        K = torch.transpose(K, 1,2) # transposing (n_head, block_size) cause we'll do matmul operation on block_size and h_dim\n",
    "        V = torch.transpose(V, 1,2) # transposing (n_head, block_size) cause we'll do matmul operation on block_size and h_dim\n",
    "        \n",
    "        ### ------ multi-head ----------------\n",
    "        aw = Q @ torch.transpose(K, -2,-1) # for matmul dim of q should be B,T,C and k should be B,C,T\n",
    "        with torch.no_grad():\n",
    "            global check\n",
    "            check = aw.clone()\n",
    "        aw = aw/(K.shape[-2] **0.5)\n",
    "        mask = self.tril[:T,:T] == 0 # generate mask\n",
    "        aw = aw.masked_fill_(mask, float('-inf')) # apply mask i.e fill true values with -inf \n",
    "        aw = torch.softmax(aw,dim=-1) # -inf values are converted to 0 and then each row is normalized\n",
    "\n",
    "        cv = aw @ V # context vector\n",
    "        cv = torch.transpose(cv, 1,2) # bring it back to (B,T,n_heads, h_dim)\n",
    "        cv = cv.contiguous().view(B,T,-1)\n",
    "        cv = self.c_proj(cv)\n",
    "        return cv\n",
    "        \n",
    "\n",
    "        \n",
    "        \n",
    "class FFN(nn.Module):\n",
    "    def __init__(self, config):\n",
    "        super().__init__()\n",
    "        self.c_fc = nn.Linear(config.n_embd, 4*config.n_embd)\n",
    "        self.c_proj = nn.Linear(4*config.n_embd, config.n_embd)\n",
    "        self.gelu = nn.GELU(approximate='tanh')\n",
    "        \n",
    "    def forward(self,x):\n",
    "        x = self.c_fc(x)\n",
    "        x = self.gelu(x)\n",
    "        x = self.c_proj(x)\n",
    "\n",
    "        return x\n",
    "    \n",
    "    \n",
    "class Block(nn.Module):\n",
    "    def __init__(self,config):\n",
    "        super().__init__()\n",
    "        self.attn = Head(config)\n",
    "        self.mlp = FFN(config)\n",
    "        self.ln_1 = nn.LayerNorm(config.n_embd)\n",
    "        self.ln_2 = nn.LayerNorm(config.n_embd)\n",
    "        \n",
    "    def forward(self,x):\n",
    "        x = self.attn(self.ln_1(x)) + x\n",
    "        x = self.mlp(self.ln_2(x)) + x\n",
    "        \n",
    "        return x\n",
    "\n",
    "    \n",
    "from dataclasses import dataclass\n",
    "\n",
    "@dataclass\n",
    "class GPTConfig:\n",
    "    vocab_size : int = 50257\n",
    "    n_layer : int = 12\n",
    "    n_embd : int = 768\n",
    "    n_head : int= 12\n",
    "    block_size :int = 1024\n",
    "    \n",
    "\n",
    "class GPT(nn.Module):\n",
    "    def __init__(self,config):\n",
    "        super().__init__()\n",
    "        self.config = config\n",
    "        self.transformer = nn.ModuleDict({\n",
    "            'wte' : nn.Embedding(self.config.vocab_size,self.config.n_embd),\n",
    "            'wpe' : nn.Embedding(self.config.block_size, self.config.n_embd ),\n",
    "            'h' : nn.ModuleList([Block(self.config) for _ in range(self.config.n_layer)]),\n",
    "            'ln_f' : nn.LayerNorm(self.config.n_embd)\n",
    "        })\n",
    "        self.lm_head = nn.Linear(self.config.n_embd, self.config.vocab_size, bias=False)\n",
    "        \n",
    "        self.transformer.wte.weight = self.lm_head.weight\n",
    "        \n",
    "    def forward(self, x, targets=None):\n",
    "        B, T = x.size()\n",
    "        loss = None\n",
    "\n",
    "        x_embd = self.transformer.wte(x)\n",
    "#         pos = torch.arange(x.shape[1])\n",
    "        pos = torch.arange(0, T, dtype=torch.long)\n",
    "    \n",
    "        x_pe = self.transformer.wpe(pos)\n",
    "        \n",
    "        x = x_embd + x_pe\n",
    "        \n",
    "        for block in self.transformer.h:\n",
    "            x = block(x)\n",
    "            \n",
    "        x = self.transformer.ln_f(x)\n",
    "        logits = self.lm_head(x)\n",
    "        \n",
    "        if targets is not None:\n",
    "            B,T,C = logits.shape\n",
    "            logits = logits.view(B*T,C)\n",
    "            targets = targets.view(B*T)\n",
    "            loss = nn.functional.cross_entropy(logits,targets)\n",
    "\n",
    "        return logits\n",
    "        \n",
    "        \n",
    "    @classmethod\n",
    "    def from_pretrained(cls,model_type):\n",
    "        config = GPTConfig()\n",
    "        model = GPT(config)\n",
    "        \n",
    "        sd = model.state_dict()\n",
    "        sd_keys = model.state_dict().keys()\n",
    "        \n",
    "        sd_keys = [key for key in sd_keys if not key.endswith('.attn.tril')]\n",
    "        \n",
    "        from transformers import GPT2LMHeadModel\n",
    "        model_hf = GPT2LMHeadModel.from_pretrained(model_type)\n",
    "    \n",
    "        sd_hf = model_hf.state_dict()\n",
    "        sd_hf_keys = model_hf.state_dict().keys()\n",
    "        \n",
    "        assert len(sd_keys) == len(sd_hf_keys), 'keys unmatched, please make sure the length of keys matches'\n",
    "        \n",
    "        transposed = ['.attn.c_attn.weight', '.attn.c_proj.weight','.mlp.c_fc.weight', '.mlp.c_proj.weight', ]\n",
    "        for k,v in sd_hf.items():\n",
    "            for i in transposed:\n",
    "                if k.endswith(i):\n",
    "                    sd_hf[k] = sd_hf[k].t()\n",
    "            with torch.no_grad():\n",
    "#                 print(k)\n",
    "#                 print(sd[k].shape, sd_hf[k].shape)\n",
    "                sd[k].copy_(sd_hf[k])\n",
    "\n",
    "                    \n",
    "        return model\n",
    "    \n",
    "    \n",
    "# -----------------------------------------------------------------------------\n",
    "num_return_sequences = 5\n",
    "max_length = 30\n",
    "\n",
    "model = GPT.from_pretrained('gpt2')\n",
    "model.eval()\n",
    "# model.to('cuda')\n",
    "\n",
    "# prefix tokens\n",
    "import tiktoken\n",
    "enc = tiktoken.get_encoding('gpt2')\n",
    "tokens = enc.encode(\"Hello, I'm a language model,\")\n",
    "tokens = torch.tensor(tokens, dtype=torch.long) # (8,)\n",
    "tokens = tokens.unsqueeze(0).repeat(num_return_sequences, 1) # (5, 8)\n",
    "x = tokens\n",
    "\n",
    "# generate! right now x is (B, T) where B = 5, T = 8\n",
    "# set the seed to 42\n",
    "torch.manual_seed(42)\n",
    "torch.cuda.manual_seed(42)\n",
    "while x.size(1) < max_length:\n",
    "    # forward the model to get the logits\n",
    "    with torch.no_grad():\n",
    "        logits = model(x) # (B, T, vocab_size)\n",
    "        # take the logits at the last position\n",
    "        logits = logits[:, -1, :] # (B, vocab_size)\n",
    "        # get the probabilities\n",
    "        probs = F.softmax(logits, dim=-1)\n",
    "        # do top-k sampling of 50 (huggingface pipeline default)\n",
    "        # topk_probs here becomes (5, 50), topk_indices is (5, 50)\n",
    "        topk_probs, topk_indices = torch.topk(probs, 50, dim=-1)\n",
    "        # select a token from the top-k probabilities\n",
    "        # note: multinomial does not demand the input to sum to 1\n",
    "        ix = torch.multinomial(topk_probs, 1) # (B, 1)\n",
    "        # gather the corresponding indices\n",
    "        xcol = torch.gather(topk_indices, -1, ix) # (B, 1)\n",
    "        # append to the sequence\n",
    "        x = torch.cat((x, xcol), dim=1)\n",
    "\n",
    "# print the generated text\n",
    "for i in range(num_return_sequences):\n",
    "    tokens = x[i, :max_length].tolist()\n",
    "    decoded = enc.decode(tokens)\n",
    "    print(\">\", decoded)"
   ]
  },
  {
   "cell_type": "code",
   "execution_count": null,
   "id": "e6dad31b",
   "metadata": {},
   "outputs": [],
   "source": []
  },
  {
   "cell_type": "code",
   "execution_count": null,
   "id": "de10dea3",
   "metadata": {},
   "outputs": [],
   "source": []
  },
  {
   "cell_type": "code",
   "execution_count": null,
   "id": "4127e32f",
   "metadata": {},
   "outputs": [],
   "source": []
  },
  {
   "cell_type": "code",
   "execution_count": null,
   "id": "5601e749",
   "metadata": {},
   "outputs": [],
   "source": []
  },
  {
   "cell_type": "markdown",
   "id": "2781d149",
   "metadata": {},
   "source": [
    "### Edit this code"
   ]
  },
  {
   "cell_type": "code",
   "execution_count": 62,
   "id": "dc9d804f",
   "metadata": {},
   "outputs": [],
   "source": [
    "import time"
   ]
  },
  {
   "cell_type": "code",
   "execution_count": 64,
   "id": "f6b248bd",
   "metadata": {},
   "outputs": [
    {
     "name": "stdout",
     "output_type": "stream",
     "text": [
      "using device: mps\n"
     ]
    },
    {
     "ename": "TypeError",
     "evalue": "tuple indices must be integers or slices, not tuple",
     "output_type": "error",
     "traceback": [
      "\u001b[0;31m---------------------------------------------------------------------------\u001b[0m",
      "\u001b[0;31mTypeError\u001b[0m                                 Traceback (most recent call last)",
      "Cell \u001b[0;32mIn[64], line 214\u001b[0m\n\u001b[1;32m    212\u001b[0m logits \u001b[38;5;241m=\u001b[39m model(x) \u001b[38;5;66;03m# (B, T, vocab_size)\u001b[39;00m\n\u001b[1;32m    213\u001b[0m \u001b[38;5;66;03m# take the logits at the last position\u001b[39;00m\n\u001b[0;32m--> 214\u001b[0m logits \u001b[38;5;241m=\u001b[39m logits[:, \u001b[38;5;241m-\u001b[39m\u001b[38;5;241m1\u001b[39m, :] \u001b[38;5;66;03m# (B, vocab_size)\u001b[39;00m\n\u001b[1;32m    215\u001b[0m \u001b[38;5;66;03m# get the probabilities\u001b[39;00m\n\u001b[1;32m    216\u001b[0m probs \u001b[38;5;241m=\u001b[39m F\u001b[38;5;241m.\u001b[39msoftmax(logits, dim\u001b[38;5;241m=\u001b[39m\u001b[38;5;241m-\u001b[39m\u001b[38;5;241m1\u001b[39m)\n",
      "\u001b[0;31mTypeError\u001b[0m: tuple indices must be integers or slices, not tuple"
     ]
    }
   ],
   "source": [
    "\n",
    "class Head(nn.Module):\n",
    "    def __init__(self,config):\n",
    "        super().__init__()\n",
    "        self.c_attn = nn.Linear(config.n_embd, 3*config.n_embd)\n",
    "        self.c_proj = nn.Linear(config.n_embd, config.n_embd)\n",
    "        self.c_proj.NANOGPT_SCALE_INIT = 1\n",
    "        self.register_buffer('tril', torch.tril(torch.ones(config.block_size, config.block_size))\n",
    "                                     .view(1, 1, config.block_size, config.block_size))\n",
    "        self.n_embd = config.n_embd\n",
    "        self.n_head = config.n_head\n",
    "    def forward(self,x):\n",
    "        B,T,C = x.shape\n",
    "        qkv = self.c_attn(x)\n",
    "        \n",
    "        Q,K,V = qkv.split(self.n_embd, dim=2)\n",
    "\n",
    "        \n",
    "        # comment out if using multi head attention\n",
    "        ### ------ multi-head ----------------\n",
    "        assert self.n_embd // self.n_head, 'n_embd and n_head dont comply'\n",
    "        h_dim = self.n_embd // self.n_head\n",
    "        \n",
    "        Q = Q.view(B, T, self.n_head, C // self.n_head)\n",
    "        K = K.view(B, T, self.n_head, C // self.n_head)\n",
    "        V = V.view(B, T, self.n_head, C // self.n_head)\n",
    "        Q = torch.transpose(Q, 1,2) # transposing (n_head, block_size) cause we'll do matmul operation on block_size and h_dim\n",
    "        K = torch.transpose(K, 1,2) # transposing (n_head, block_size) cause we'll do matmul operation on block_size and h_dim\n",
    "        V = torch.transpose(V, 1,2) # transposing (n_head, block_size) cause we'll do matmul operation on block_size and h_dim\n",
    "        \n",
    "        ### ------ multi-head ----------------\n",
    "#         aw = (Q @ torch.transpose(K, -2,-1) * (1.0 / math.sqrt(K.size(-1)))) # for matmul dim of q should be B,T,C and k should be B,C,T\n",
    "        \n",
    "        aw = (Q @ torch.transpose(K, -2,-1)) # for matmul dim of q should be B,T,C and k should be B,C,T\n",
    "        aw = aw/(K.shape[-1] **0.5)\n",
    "        mask = self.tril[:,:,:T,:T] == 0 # generate mask\n",
    "        aw = aw.masked_fill_(mask, float('-inf')) # apply mask i.e fill true values with -inf \n",
    "        aw = torch.softmax(aw,dim=-1) # -inf values are converted to 0 and then each row is normalized\n",
    "\n",
    "        cv = aw @ V # context vector\n",
    "        cv = torch.transpose(cv, 1,2) # bring it back to (B,T,n_heads, h_dim)\n",
    "        cv = cv.contiguous().view(B,T,C)\n",
    "        cv = self.c_proj(cv)\n",
    "        return cv\n",
    "        \n",
    "\n",
    "        \n",
    "        \n",
    "class FFN(nn.Module):\n",
    "    def __init__(self, config):\n",
    "        super().__init__()\n",
    "        self.c_fc = nn.Linear(config.n_embd, 4*config.n_embd)\n",
    "        self.c_proj = nn.Linear(4*config.n_embd, config.n_embd)\n",
    "        self.c_proj.NANOGPT_SCALE_INIT = 1\n",
    "        self.gelu = nn.GELU(approximate='tanh')\n",
    "        \n",
    "        \n",
    "    def forward(self,x):\n",
    "        x = self.c_fc(x)\n",
    "        x = self.gelu(x)\n",
    "        x = self.c_proj(x)\n",
    "\n",
    "        return x\n",
    "    \n",
    "    \n",
    "class Block(nn.Module):\n",
    "    def __init__(self,config):\n",
    "        super().__init__()\n",
    "        self.attn = Head(config)\n",
    "        self.mlp = FFN(config)\n",
    "        self.ln_1 = nn.LayerNorm(config.n_embd)\n",
    "        self.ln_2 = nn.LayerNorm(config.n_embd)\n",
    "        \n",
    "    def forward(self,x):\n",
    "        x = self.attn(self.ln_1(x)) + x\n",
    "        x = self.mlp(self.ln_2(x)) + x\n",
    "    \n",
    "        return x\n",
    "\n",
    "    \n",
    "from dataclasses import dataclass\n",
    "\n",
    "@dataclass\n",
    "class GPTConfig:\n",
    "    vocab_size : int = 50257\n",
    "    n_layer : int = 12\n",
    "    n_embd : int = 768\n",
    "    n_head : int= 12\n",
    "    block_size :int = 1024\n",
    "    \n",
    "\n",
    "class GPT(nn.Module):\n",
    "    def __init__(self,config):\n",
    "        super().__init__()\n",
    "        self.config = config\n",
    "        self.transformer = nn.ModuleDict({\n",
    "            'wte' : nn.Embedding(self.config.vocab_size,self.config.n_embd),\n",
    "            'wpe' : nn.Embedding(self.config.block_size, self.config.n_embd ),\n",
    "            'h' : nn.ModuleList([Block(self.config) for _ in range(self.config.n_layer)]),\n",
    "            'ln_f' : nn.LayerNorm(self.config.n_embd)\n",
    "        })\n",
    "        self.lm_head = nn.Linear(self.config.n_embd, self.config.vocab_size, bias=False)\n",
    "        \n",
    "        self.transformer.wte.weight = self.lm_head.weight\n",
    "        \n",
    "    def forward(self, x, targets=None):\n",
    "        B, T = x.size()\n",
    "        loss = None\n",
    "\n",
    "        x_embd = self.transformer.wte(x)\n",
    "#         pos = torch.arange(x.shape[1])a\n",
    "        pos = torch.arange(0, T, dtype=torch.long, device=x.device)\n",
    "    \n",
    "        x_pe = self.transformer.wpe(pos)\n",
    "        \n",
    "        x = x_embd + x_pe\n",
    "        \n",
    "        for block in self.transformer.h:\n",
    "            x = block(x)\n",
    "            \n",
    "        x = self.transformer.ln_f(x)\n",
    "        logits = self.lm_head(x)\n",
    "        \n",
    "        if targets is not None:\n",
    "            B,T,C = logits.shape\n",
    "            logits = logits.view(B*T,C)\n",
    "            targets = targets.view(B*T)\n",
    "            loss = nn.functional.cross_entropy(logits,targets)\n",
    "\n",
    "        return logits,loss\n",
    "        \n",
    "    def _init_weights(self,module):\n",
    "        \n",
    "        if isinstance(module, nn.Linear):\n",
    "            std = 0.02\n",
    "            if hasattr(module, 'NANOGPT_SCALE_INIT'):\n",
    "                std *= (2*self.config.n_layer)**-0.5\n",
    "                \n",
    "            torch.nn.init.normal_(module.weight, mean = 0.0, std=std)\n",
    "            \n",
    "            if module.bias is not None:\n",
    "                torch.nn.init.zeros_(module.bias)\n",
    "        \n",
    "        elif isinstance(module, nn.Embedding):\n",
    "            torch.nn.init.normal_(module.weight, mean = 0.0, std=0.02)\n",
    "            \n",
    "    \n",
    "    \n",
    "    @classmethod\n",
    "    def from_pretrained(cls,model_type):\n",
    "        config = GPTConfig()\n",
    "        model = GPT(config)\n",
    "        \n",
    "        sd = model.state_dict()\n",
    "        sd_keys = model.state_dict().keys()\n",
    "        \n",
    "        sd_keys = [key for key in sd_keys if not key.endswith('.attn.tril')]\n",
    "        \n",
    "        from transformers import GPT2LMHeadModel\n",
    "        model_hf = GPT2LMHeadModel.from_pretrained(model_type)\n",
    "    \n",
    "        sd_hf = model_hf.state_dict()\n",
    "        sd_hf_keys = model_hf.state_dict().keys()\n",
    "        \n",
    "        assert len(sd_keys) == len(sd_hf_keys), 'keys unmatched, please make sure the length of keys matches'\n",
    "        \n",
    "        transposed = ['.attn.c_attn.weight', '.attn.c_proj.weight','.mlp.c_fc.weight', '.mlp.c_proj.weight', ]\n",
    "        for k,v in sd_hf.items():\n",
    "            for i in transposed:\n",
    "                if k.endswith(i):\n",
    "                    sd_hf[k] = sd_hf[k].t()\n",
    "            with torch.no_grad():\n",
    "#                 print(k)\n",
    "#                 print(sd[k].shape, sd_hf[k].shape)\n",
    "                sd[k].copy_(sd_hf[k])\n",
    "\n",
    "                    \n",
    "        return model\n",
    "    \n",
    "start_time = time.time()\n",
    "# -----------------------------------------------------------------------------\n",
    "\n",
    "device = \"cpu\"\n",
    "if torch.cuda.is_available():\n",
    "    device = \"cuda\"\n",
    "elif hasattr(torch.backends, \"mps\") and torch.backends.mps.is_available():\n",
    "    device = \"mps\"\n",
    "print(f\"using device: {device}\")\n",
    "\n",
    "\n",
    "num_return_sequences = 5\n",
    "max_length = 30\n",
    "\n",
    "model = GPT.from_pretrained('gpt2')\n",
    "model.eval()\n",
    "model.to(device)\n",
    "\n",
    "# prefix tokens\n",
    "import tiktoken\n",
    "enc = tiktoken.get_encoding('gpt2')\n",
    "tokens = enc.encode(\"My name is cutie siza\")\n",
    "tokens = torch.tensor(tokens, dtype=torch.long) # (8,)\n",
    "tokens = tokens.unsqueeze(0).repeat(num_return_sequences, 1) # (5, 8)\n",
    "x = tokens.to(device)\n",
    "\n",
    "# generate! right now x is (B, T) where B = 5, T = 8\n",
    "# set the seed to 42\n",
    "torch.manual_seed(42)\n",
    "torch.cuda.manual_seed(42)\n",
    "while x.size(1) < max_length:\n",
    "    # forward the model to get the logits\n",
    "    with torch.no_grad():\n",
    "        logits = model(x) # (B, T, vocab_size)\n",
    "        # take the logits at the last position\n",
    "        logits = logits[:, -1, :] # (B, vocab_size)\n",
    "        # get the probabilities\n",
    "        probs = F.softmax(logits, dim=-1)\n",
    "        # do top-k sampling of 50 (huggingface pipeline default)\n",
    "        # topk_probs here becomes (5, 50), topk_indices is (5, 50)\n",
    "        topk_probs, topk_indices = torch.topk(probs, 50, dim=-1)\n",
    "        # select a token from the top-k probabilities\n",
    "        # note: multinomial does not demand the input to sum to 1\n",
    "        ix = torch.multinomial(topk_probs, 1) # (B, 1)\n",
    "        # gather the corresponding indices\n",
    "        xcol = torch.gather(topk_indices, -1, ix) # (B, 1)\n",
    "        # append to the sequence\n",
    "        x = torch.cat((x, xcol), dim=1)\n",
    "\n",
    "# print the generated text\n",
    "for i in range(num_return_sequences):\n",
    "    tokens = x[i, :max_length].tolist()\n",
    "    decoded = enc.decode(tokens)\n",
    "    print(\">\", decoded)\n",
    "    \n",
    "end_time = time.time()\n",
    "\n",
    "\n",
    "\n",
    "## ------------------ Train ---------------- ##\n",
    "\n",
    "\n",
    "print(end_time - start_time)"
   ]
  },
  {
   "cell_type": "markdown",
   "id": "90b7d4ba",
   "metadata": {},
   "source": [
    "### Dataloader"
   ]
  },
  {
   "cell_type": "code",
   "execution_count": 73,
   "id": "0287bfa0",
   "metadata": {},
   "outputs": [],
   "source": [
    "import tiktoken\n",
    "class DataLoaderLite:\n",
    "    def __init__(self, B, T):\n",
    "        self.B = B\n",
    "        self.T = T\n",
    "\n",
    "        # at init load tokens from disk and store them in memory\n",
    "        with open('input.txt', 'r') as f:\n",
    "            text = f.read()\n",
    "        enc = tiktoken.get_encoding('gpt2')\n",
    "        tokens = enc.encode(text)\n",
    "        self.tokens = torch.tensor(tokens)\n",
    "        print(f\"loaded {len(self.tokens)} tokens\")\n",
    "        print(f\"1 epoch = {len(self.tokens) // (B * T)} batches\")\n",
    "\n",
    "        # state\n",
    "        self.current_position = 0\n",
    "\n",
    "    def next_batch(self):\n",
    "        B, T = self.B, self.T\n",
    "        buf = self.tokens[self.current_position : self.current_position+B*T+1]\n",
    "        x = (buf[:-1]).view(B, T) # inputs\n",
    "        y = (buf[1:]).view(B, T) # targets\n",
    "        # advance the position in the tensor\n",
    "        self.current_position += B * T\n",
    "        # if loading the next batch would be out of bounds, reset\n",
    "        if self.current_position + (B * T + 1) > len(self.tokens):\n",
    "            self.current_position = 0\n",
    "        return x, y\n"
   ]
  },
  {
   "cell_type": "code",
   "execution_count": null,
   "id": "42c1cafb",
   "metadata": {},
   "outputs": [],
   "source": [
    "\n",
    "train_loader = DataLoaderLite(B=4, T=32)\n",
    "\n",
    "# get logits\n",
    "model = GPT(GPTConfig())\n",
    "model.to(device)\n",
    "\n",
    "# optimize!\n",
    "optimizer = torch.optim.AdamW(model.parameters(), lr=3e-4)\n",
    "for i in range(50):\n",
    "    x, y = train_loader.next_batch()\n",
    "    x, y = x.to(device), y.to(device)\n",
    "    optimizer.zero_grad()\n",
    "    logits, loss = model(x, y)\n",
    "    loss.backward()\n",
    "    optimizer.step()\n",
    "    print(f\"step {i}, loss: {loss.item()}\")"
   ]
  },
  {
   "cell_type": "code",
   "execution_count": null,
   "id": "b21b6668",
   "metadata": {},
   "outputs": [],
   "source": []
  },
  {
   "cell_type": "code",
   "execution_count": null,
   "id": "1a444d4f",
   "metadata": {},
   "outputs": [],
   "source": []
  },
  {
   "cell_type": "code",
   "execution_count": 79,
   "id": "6dfaeeda",
   "metadata": {},
   "outputs": [],
   "source": [
    "max_lr = 6e-4\n",
    "min_lr = max_lr * 0.1\n",
    "warmup_steps = 10\n",
    "max_steps = 50\n",
    "def get_lr(it):\n",
    "    # 1) linear warmup for warmup_iters steps\n",
    "    if it < warmup_steps:\n",
    "        return max_lr * (it+1) / warmup_steps\n",
    "    # 2) if it > lr_decay_iters, return min learning rate\n",
    "    if it > max_steps:\n",
    "        return min_lr\n",
    "    # 3) in between, use cosine decay down to min learning rate\n",
    "    decay_ratio = (it - warmup_steps) / (max_steps - warmup_steps)\n",
    "    assert 0 <= decay_ratio <= 1\n",
    "    coeff = 0.5 * (1.0 + math.cos(math.pi * decay_ratio)) # coeff starts at 1 and goes to 0\n",
    "    return min_lr + coeff * (max_lr - min_lr)\n"
   ]
  },
  {
   "cell_type": "code",
   "execution_count": 80,
   "id": "9bbb9b0f",
   "metadata": {},
   "outputs": [],
   "source": [
    "\n",
    "ls = []\n",
    "for i in range(200):\n",
    "    ls.append(get_lr(i))"
   ]
  },
  {
   "cell_type": "code",
   "execution_count": 81,
   "id": "70dd3d63",
   "metadata": {},
   "outputs": [
    {
     "data": {
      "text/plain": [
       "[<matplotlib.lines.Line2D at 0x281bbef60>]"
      ]
     },
     "execution_count": 81,
     "metadata": {},
     "output_type": "execute_result"
    },
    {
     "data": {
      "image/png": "[encoded data removed]",
      "text/plain": [
       "<Figure size 640x480 with 1 Axes>"
      ]
     },
     "metadata": {},
     "output_type": "display_data"
    }
   ],
   "source": [
    "plt.plot(ls)"
   ]
  },
  {
   "cell_type": "code",
   "execution_count": null,
   "id": "eb3ba940",
   "metadata": {},
   "outputs": [],
   "source": []
  },
  {
   "cell_type": "code",
   "execution_count": null,
   "id": "c65ac79b",
   "metadata": {},
   "outputs": [],
   "source": []
  },
  {
   "cell_type": "code",
   "execution_count": null,
   "id": "8ffc7ebc",
   "metadata": {},
   "outputs": [],
   "source": []
  },
  {
   "cell_type": "code",
   "execution_count": null,
   "id": "57f1134d",
   "metadata": {},
   "outputs": [],
   "source": []
  },
  {
   "cell_type": "code",
   "execution_count": null,
   "id": "c98a3d6f",
   "metadata": {},
   "outputs": [],
   "source": []
  },
  {
   "cell_type": "code",
   "execution_count": null,
   "id": "d9612462",
   "metadata": {},
   "outputs": [],
   "source": []
  },
  {
   "cell_type": "markdown",
   "id": "50765473",
   "metadata": {},
   "source": [
    "### karpathy code"
   ]
  },
  {
   "cell_type": "code",
   "execution_count": null,
   "id": "a0f11966",
   "metadata": {},
   "outputs": [],
   "source": []
  },
  {
   "cell_type": "code",
   "execution_count": null,
   "id": "5c58bfac",
   "metadata": {},
   "outputs": [],
   "source": []
  },
  {
   "cell_type": "code",
   "execution_count": null,
   "id": "856456aa",
   "metadata": {},
   "outputs": [],
   "source": []
  },
  {
   "cell_type": "code",
   "execution_count": null,
   "id": "8eff8b7b",
   "metadata": {},
   "outputs": [],
   "source": []
  },
  {
   "cell_type": "code",
   "execution_count": 19,
   "id": "cb38943d",
   "metadata": {},
   "outputs": [
    {
     "name": "stderr",
     "output_type": "stream",
     "text": [
      "Device set to use mps:0\n"
     ]
    }
   ],
   "source": [
    "from transformers import pipeline, set_seed\n",
    "generator = pipeline('text-generation', model='gpt2')"
   ]
  },
  {
   "cell_type": "code",
   "execution_count": 20,
   "id": "3d7c3fc6",
   "metadata": {},
   "outputs": [
    {
     "data": {
      "text/plain": [
       "<transformers.pipelines.text_generation.TextGenerationPipeline at 0x111e309b0>"
      ]
     },
     "execution_count": 20,
     "metadata": {},
     "output_type": "execute_result"
    }
   ],
   "source": [
    "generator"
   ]
  },
  {
   "cell_type": "code",
   "execution_count": 21,
   "id": "a4fb7943",
   "metadata": {},
   "outputs": [
    {
     "name": "stderr",
     "output_type": "stream",
     "text": [
      "Truncation was not explicitly activated but `max_length` is provided a specific value, please use `truncation=True` to explicitly truncate examples to max length. Defaulting to 'longest_first' truncation strategy. If you encode pairs of sequences (GLUE-style) with the tokenizer you can select this strategy more precisely by providing a specific strategy to `truncation`.\n",
      "Setting `pad_token_id` to `eos_token_id`:50256 for open-end generation.\n"
     ]
    },
    {
     "data": {
      "text/plain": [
       "[{'generated_text': 'The White man worked as a bus driver in Houston'},\n",
       " {'generated_text': 'The White man worked as a journalist and producer of'},\n",
       " {'generated_text': 'The White man worked as a detective in the White'},\n",
       " {'generated_text': 'The White man worked as a waiter and a bar'},\n",
       " {'generated_text': 'The White man worked as a waitress at the restaurant'}]"
      ]
     },
     "execution_count": 21,
     "metadata": {},
     "output_type": "execute_result"
    }
   ],
   "source": [
    "set_seed(42)\n",
    "generator(\"The White man worked as a\", max_length=10, num_return_sequences=5)\n"
   ]
  },
  {
   "cell_type": "code",
   "execution_count": null,
   "id": "0357522d",
   "metadata": {},
   "outputs": [],
   "source": []
  },
  {
   "cell_type": "markdown",
   "id": "9add83d0",
   "metadata": {},
   "source": [
    "### My implementation to load the weights"
   ]
  },
  {
   "cell_type": "code",
   "execution_count": null,
   "id": "65b5a1ec",
   "metadata": {},
   "outputs": [],
   "source": [
    "emb_dim = 128\n",
    "block_size = 8\n",
    "\n",
    "\n",
    "class Head(nn.Module):\n",
    "    def __init__(self,h_dim):\n",
    "        super().__init__()\n",
    "        self.wq = nn.Linear(emb_dim, emb_dim, bias=False)\n",
    "        self.wk = nn.Linear(emb_dim, emb_dim, bias=False)\n",
    "        self.wv = nn.Linear(emb_dim, emb_dim, bias=False)\n",
    "        self.register_buffer('tril', torch.tril(torch.ones(block_size, block_size)))\n",
    "        \n",
    "    def forward(self,x):\n",
    "        B,T,C = x.shape\n",
    "        Q,K,V = self.wq(x), self.wk(x), self.wv(x)\n",
    "\n",
    "        \n",
    "        # comment out if using multi head attention\n",
    "        ### ------ multi-head ----------------\n",
    "        n_heads = emb_dim // h_dim\n",
    "        Q = Q.view(B,T,n_heads, h_dim)\n",
    "        K = K.view(B,T,n_heads, h_dim)\n",
    "        V = V.view(B,T,n_heads, h_dim)\n",
    "        \n",
    "        Q = torch.transpose(Q, 1,2) # transposing (n_head, block_size) cause we'll do matmul operation on block_size and h_dim\n",
    "        K = torch.transpose(K, 1,2) # transposing (n_head, block_size) cause we'll do matmul operation on block_size and h_dim\n",
    "        V = torch.transpose(V, 1,2) # transposing (n_head, block_size) cause we'll do matmul operation on block_size and h_dim\n",
    "        \n",
    "        ### ------ multi-head ----------------\n",
    "        aw = Q @ torch.transpose(K, -2,-1) # for matmul dim of q should be B,T,C and k should be B,C,T\n",
    "        aw = aw/(emb_dim **0.5)\n",
    "        mask = self.tril[:T,:T] == 0 # generate mask\n",
    "        aw = aw.masked_fill_(mask, float('-inf')) # apply mask i.e fill true values with -inf \n",
    "        aw = torch.softmax(aw,dim=-1) # -inf values are converted to 0 and then each row is normalized\n",
    "\n",
    "        cv = aw @ V # context vector\n",
    "        cv = torch.transpose(cv, 1,2) # bring it back to (B,T,n_heads, h_dim)\n",
    "        cv = cv.contiguous().view(B,T,-1)\n",
    "        \n",
    "        return cv\n",
    "        \n"
   ]
  },
  {
   "cell_type": "code",
   "execution_count": 155,
   "id": "2f203f2d",
   "metadata": {},
   "outputs": [],
   "source": [
    "l = nn.Linear(3,2)\n"
   ]
  },
  {
   "cell_type": "code",
   "execution_count": 156,
   "id": "e5e622c2",
   "metadata": {},
   "outputs": [],
   "source": [
    "x = torch.randn(32,8,2)"
   ]
  },
  {
   "cell_type": "code",
   "execution_count": 157,
   "id": "251e4ae3",
   "metadata": {},
   "outputs": [
    {
     "ename": "RuntimeError",
     "evalue": "mat1 and mat2 shapes cannot be multiplied (256x2 and 3x2)",
     "output_type": "error",
     "traceback": [
      "\u001b[0;31m---------------------------------------------------------------------------\u001b[0m",
      "\u001b[0;31mRuntimeError\u001b[0m                              Traceback (most recent call last)",
      "Cell \u001b[0;32mIn[157], line 1\u001b[0m\n\u001b[0;32m----> 1\u001b[0m ans \u001b[38;5;241m=\u001b[39m l(x)\n",
      "File \u001b[0;32m~/anaconda3/envs/deep_learning/lib/python3.12/site-packages/torch/nn/modules/module.py:1736\u001b[0m, in \u001b[0;36mModule._wrapped_call_impl\u001b[0;34m(self, *args, **kwargs)\u001b[0m\n\u001b[1;32m   1734\u001b[0m     \u001b[38;5;28;01mreturn\u001b[39;00m \u001b[38;5;28mself\u001b[39m\u001b[38;5;241m.\u001b[39m_compiled_call_impl(\u001b[38;5;241m*\u001b[39margs, \u001b[38;5;241m*\u001b[39m\u001b[38;5;241m*\u001b[39mkwargs)  \u001b[38;5;66;03m# type: ignore[misc]\u001b[39;00m\n\u001b[1;32m   1735\u001b[0m \u001b[38;5;28;01melse\u001b[39;00m:\n\u001b[0;32m-> 1736\u001b[0m     \u001b[38;5;28;01mreturn\u001b[39;00m \u001b[38;5;28mself\u001b[39m\u001b[38;5;241m.\u001b[39m_call_impl(\u001b[38;5;241m*\u001b[39margs, \u001b[38;5;241m*\u001b[39m\u001b[38;5;241m*\u001b[39mkwargs)\n",
      "File \u001b[0;32m~/anaconda3/envs/deep_learning/lib/python3.12/site-packages/torch/nn/modules/module.py:1747\u001b[0m, in \u001b[0;36mModule._call_impl\u001b[0;34m(self, *args, **kwargs)\u001b[0m\n\u001b[1;32m   1742\u001b[0m \u001b[38;5;66;03m# If we don't have any hooks, we want to skip the rest of the logic in\u001b[39;00m\n\u001b[1;32m   1743\u001b[0m \u001b[38;5;66;03m# this function, and just call forward.\u001b[39;00m\n\u001b[1;32m   1744\u001b[0m \u001b[38;5;28;01mif\u001b[39;00m \u001b[38;5;129;01mnot\u001b[39;00m (\u001b[38;5;28mself\u001b[39m\u001b[38;5;241m.\u001b[39m_backward_hooks \u001b[38;5;129;01mor\u001b[39;00m \u001b[38;5;28mself\u001b[39m\u001b[38;5;241m.\u001b[39m_backward_pre_hooks \u001b[38;5;129;01mor\u001b[39;00m \u001b[38;5;28mself\u001b[39m\u001b[38;5;241m.\u001b[39m_forward_hooks \u001b[38;5;129;01mor\u001b[39;00m \u001b[38;5;28mself\u001b[39m\u001b[38;5;241m.\u001b[39m_forward_pre_hooks\n\u001b[1;32m   1745\u001b[0m         \u001b[38;5;129;01mor\u001b[39;00m _global_backward_pre_hooks \u001b[38;5;129;01mor\u001b[39;00m _global_backward_hooks\n\u001b[1;32m   1746\u001b[0m         \u001b[38;5;129;01mor\u001b[39;00m _global_forward_hooks \u001b[38;5;129;01mor\u001b[39;00m _global_forward_pre_hooks):\n\u001b[0;32m-> 1747\u001b[0m     \u001b[38;5;28;01mreturn\u001b[39;00m forward_call(\u001b[38;5;241m*\u001b[39margs, \u001b[38;5;241m*\u001b[39m\u001b[38;5;241m*\u001b[39mkwargs)\n\u001b[1;32m   1749\u001b[0m result \u001b[38;5;241m=\u001b[39m \u001b[38;5;28;01mNone\u001b[39;00m\n\u001b[1;32m   1750\u001b[0m called_always_called_hooks \u001b[38;5;241m=\u001b[39m \u001b[38;5;28mset\u001b[39m()\n",
      "File \u001b[0;32m~/anaconda3/envs/deep_learning/lib/python3.12/site-packages/torch/nn/modules/linear.py:125\u001b[0m, in \u001b[0;36mLinear.forward\u001b[0;34m(self, input)\u001b[0m\n\u001b[1;32m    124\u001b[0m \u001b[38;5;28;01mdef\u001b[39;00m \u001b[38;5;21mforward\u001b[39m(\u001b[38;5;28mself\u001b[39m, \u001b[38;5;28minput\u001b[39m: Tensor) \u001b[38;5;241m-\u001b[39m\u001b[38;5;241m>\u001b[39m Tensor:\n\u001b[0;32m--> 125\u001b[0m     \u001b[38;5;28;01mreturn\u001b[39;00m F\u001b[38;5;241m.\u001b[39mlinear(\u001b[38;5;28minput\u001b[39m, \u001b[38;5;28mself\u001b[39m\u001b[38;5;241m.\u001b[39mweight, \u001b[38;5;28mself\u001b[39m\u001b[38;5;241m.\u001b[39mbias)\n",
      "\u001b[0;31mRuntimeError\u001b[0m: mat1 and mat2 shapes cannot be multiplied (256x2 and 3x2)"
     ]
    }
   ],
   "source": [
    "ans = l(x)"
   ]
  },
  {
   "cell_type": "code",
   "execution_count": 154,
   "id": "a70f7385",
   "metadata": {},
   "outputs": [
    {
     "data": {
      "text/plain": [
       "torch.Size([32, 8, 3])"
      ]
     },
     "execution_count": 154,
     "metadata": {},
     "output_type": "execute_result"
    }
   ],
   "source": [
    "ans.shape"
   ]
  },
  {
   "cell_type": "code",
   "execution_count": null,
   "id": "9d6f9a5a",
   "metadata": {},
   "outputs": [],
   "source": []
  }
 ],
 "metadata": {
  "kernelspec": {
   "display_name": "deep_learning",
   "language": "python",
   "name": "deep_learning"
  },
  "language_info": {
   "codemirror_mode": {
    "name": "ipython",
    "version": 3
   },
   "file_extension": ".py",
   "mimetype": "text/x-python",
   "name": "python",
   "nbconvert_exporter": "python",
   "pygments_lexer": "ipython3",
   "version": "3.12.7"
  }
 },
 "nbformat": 4,
 "nbformat_minor": 5
}
