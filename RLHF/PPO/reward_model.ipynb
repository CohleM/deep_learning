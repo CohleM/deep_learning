{
 "cells": [
  {
   "cell_type": "code",
   "execution_count": 1,
   "id": "721b7702",
   "metadata": {},
   "outputs": [],
   "source": [
    "ls = [1,2,3]"
   ]
  },
  {
   "cell_type": "code",
   "execution_count": 2,
   "id": "56b3c8e0",
   "metadata": {},
   "outputs": [
    {
     "name": "stdout",
     "output_type": "stream",
     "text": [
      "1 2 3\n"
     ]
    }
   ],
   "source": [
    "print(*ls)"
   ]
  },
  {
   "cell_type": "code",
   "execution_count": 8,
   "id": "c0631c4c",
   "metadata": {},
   "outputs": [],
   "source": [
    "oo = {'sha': [213] }"
   ]
  },
  {
   "cell_type": "code",
   "execution_count": 9,
   "id": "b0f2275c",
   "metadata": {},
   "outputs": [],
   "source": [
    "oo = {'sha': [213], **gg}"
   ]
  },
  {
   "cell_type": "code",
   "execution_count": 10,
   "id": "2567b6d0",
   "metadata": {},
   "outputs": [
    {
     "data": {
      "text/plain": [
       "{'sha': [213], 'yo': 4, 'gg': 3}"
      ]
     },
     "execution_count": 10,
     "metadata": {},
     "output_type": "execute_result"
    }
   ],
   "source": [
    "oo"
   ]
  },
  {
   "cell_type": "code",
   "execution_count": 3,
   "id": "869f3b98",
   "metadata": {},
   "outputs": [],
   "source": [
    "gg = {'yo': 4, 'gg' : 3}"
   ]
  },
  {
   "cell_type": "code",
   "execution_count": 4,
   "id": "7eb0e56b",
   "metadata": {},
   "outputs": [
    {
     "ename": "TypeError",
     "evalue": "'yo' is an invalid keyword argument for print()",
     "output_type": "error",
     "traceback": [
      "\u001b[0;31m---------------------------------------------------------------------------\u001b[0m",
      "\u001b[0;31mTypeError\u001b[0m                                 Traceback (most recent call last)",
      "Cell \u001b[0;32mIn[4], line 1\u001b[0m\n\u001b[0;32m----> 1\u001b[0m \u001b[38;5;28mprint\u001b[39m(\u001b[38;5;241m*\u001b[39m\u001b[38;5;241m*\u001b[39mgg)\n",
      "\u001b[0;31mTypeError\u001b[0m: 'yo' is an invalid keyword argument for print()"
     ]
    }
   ],
   "source": [
    "print(**gg)"
   ]
  },
  {
   "cell_type": "code",
   "execution_count": 6,
   "id": "c3b58a54",
   "metadata": {
    "scrolled": true
   },
   "outputs": [
    {
     "data": {
      "text/plain": [
       "[1, 2, 3]"
      ]
     },
     "execution_count": 6,
     "metadata": {},
     "output_type": "execute_result"
    }
   ],
   "source": [
    "ls"
   ]
  },
  {
   "cell_type": "code",
   "execution_count": 7,
   "id": "151fe726",
   "metadata": {},
   "outputs": [
    {
     "data": {
      "text/plain": [
       "[5, 5, 1, 2, 3]"
      ]
     },
     "execution_count": 7,
     "metadata": {},
     "output_type": "execute_result"
    }
   ],
   "source": [
    "[5,5, *ls]"
   ]
  },
  {
   "cell_type": "code",
   "execution_count": null,
   "id": "fb181fd3",
   "metadata": {},
   "outputs": [],
   "source": []
  }
 ],
 "metadata": {
  "kernelspec": {
   "display_name": "deep_learning",
   "language": "python",
   "name": "deep_learning"
  },
  "language_info": {
   "codemirror_mode": {
    "name": "ipython",
    "version": 3
   },
   "file_extension": ".py",
   "mimetype": "text/x-python",
   "name": "python",
   "nbconvert_exporter": "python",
   "pygments_lexer": "ipython3",
   "version": "3.12.7"
  }
 },
 "nbformat": 4,
 "nbformat_minor": 5
}
