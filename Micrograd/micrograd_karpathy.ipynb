{
 "cells": [
  {
   "cell_type": "code",
   "execution_count": 1,
   "id": "59ec39ee",
   "metadata": {},
   "outputs": [],
   "source": [
    "import math, random"
   ]
  },
  {
   "cell_type": "code",
   "execution_count": 2,
   "id": "2ab49154",
   "metadata": {},
   "outputs": [],
   "source": [
    "from graphviz import Digraph\n",
    "\n",
    "\n",
    "def trace(root):\n",
    "    # builds a set of all nodes and edges in a graph\n",
    "    nodes, edges = set(), set()\n",
    "\n",
    "    def build(v):\n",
    "        if v not in nodes:\n",
    "            nodes.add(v)\n",
    "            for child in v._prev:\n",
    "                print(child)\n",
    "                edges.add((child, v))\n",
    "                build(child)\n",
    "\n",
    "    build(root)\n",
    "    return nodes, edges\n",
    "\n",
    "\n",
    "def draw_dot(root):\n",
    "    dot = Digraph(format=\"svg\", graph_attr={\"rankdir\": \"LR\"})  # LR = left to right\n",
    "\n",
    "    nodes, edges = trace(root)\n",
    "\n",
    "    for n in nodes:\n",
    "        uid = str(id(n))\n",
    "        # for any value in the graph, create a rectangular ('record') node for it\n",
    "        dot.node(\n",
    "            name=uid,\n",
    "            label=\"{ %s | data %.4f | grad %.4f }\" % (n.label, n.data, n.grad),\n",
    "            shape=\"record\",\n",
    "        )\n",
    "        if n._op:\n",
    "            # if this value is a result of some operation, create an op node for it\n",
    "            dot.node(name=uid + n._op, label=n._op)\n",
    "            # and connect this node to it\n",
    "            dot.edge(uid + n._op, uid)\n",
    "\n",
    "    for n1, n2 in edges:\n",
    "        # connect n1 to the op node of n2\n",
    "        dot.edge(str(id(n1)), str(id(n2)) + n2._op)\n",
    "\n",
    "    return dot"
   ]
  },
  {
   "cell_type": "code",
   "execution_count": 262,
   "id": "431ce950",
   "metadata": {},
   "outputs": [],
   "source": [
    "class Value:\n",
    "    def __init__(self, data, _children=(), _op=\"\", label=\"\"):\n",
    "        self.data = data\n",
    "        self.grad = 0.0\n",
    "        self._backward = lambda: None\n",
    "        self._prev = set(_children)\n",
    "        self._op = _op\n",
    "        self.label = label\n",
    "\n",
    "    def __repr__(self):\n",
    "        return f\"Value(data={self.data})\"\n",
    "\n",
    "    def __add__(self, other):\n",
    "        other = other if isinstance(other, Value) else Value(other)\n",
    "        out = Value(self.data + other.data, (self, other), \"+\")\n",
    "\n",
    "        def _backward():\n",
    "            self.grad += 1.0 * out.grad\n",
    "            other.grad += 1.0 * out.grad\n",
    "\n",
    "        out._backward = _backward\n",
    "\n",
    "        return out\n",
    "\n",
    "    def __mul__(self, other):\n",
    "        other = other if isinstance(other, Value) else Value(other)\n",
    "        out = Value(self.data * other.data, (self, other), \"*\")\n",
    "\n",
    "        def _backward():\n",
    "            self.grad += other.data * out.grad\n",
    "            other.grad += self.data * out.grad\n",
    "\n",
    "        out._backward = _backward\n",
    "\n",
    "        return out\n",
    "\n",
    "    def __pow__(self, other):\n",
    "        assert isinstance(\n",
    "            other, (int, float)\n",
    "        ), \"only supporting int/float powers for now\"\n",
    "        out = Value(self.data**other, (self,), f\"**{other}\")\n",
    "\n",
    "        def _backward():\n",
    "            self.grad += other * (self.data ** (other - 1)) * out.grad\n",
    "\n",
    "        out._backward = _backward\n",
    "\n",
    "        return out\n",
    "\n",
    "    def __rmul__(self, other):  # other * self\n",
    "        return self * other\n",
    "\n",
    "    def __truediv__(self, other):  # self / other\n",
    "        return self * other**-1\n",
    "\n",
    "    def __neg__(self):  # -self\n",
    "        return self * -1\n",
    "\n",
    "    def __sub__(self, other):  # self - other\n",
    "        return self + (-other)\n",
    "\n",
    "    def __radd__(self, other):  # other + self\n",
    "        return self + other\n",
    "\n",
    "    def tanh(self):\n",
    "        x = self.data\n",
    "        t = (math.exp(2 * x) - 1) / (math.exp(2 * x) + 1)\n",
    "        out = Value(t, (self,), \"tanh\")\n",
    "\n",
    "        def _backward():\n",
    "            self.grad += (1 - t**2) * out.grad\n",
    "        out._backward = _backward\n",
    "\n",
    "        return out\n",
    "\n",
    "    def exp(self):\n",
    "        x = self.data\n",
    "        out = Value(math.exp(x), (self,), \"exp\")\n",
    "\n",
    "        def _backward():\n",
    "            self.grad += (\n",
    "                out.data * out.grad\n",
    "            )  # NOTE: in the video I incorrectly used = instead of +=. Fixed here.\n",
    "\n",
    "        out._backward = _backward\n",
    "\n",
    "        return out\n",
    "\n",
    "    def backward(self):\n",
    "\n",
    "        topo = []\n",
    "        visited = set()\n",
    "\n",
    "        def build_topo(v):\n",
    "            if v not in visited:\n",
    "                visited.add(v)\n",
    "                for child in v._prev:\n",
    "                    build_topo(child)\n",
    "                topo.append(v)\n",
    "\n",
    "        build_topo(self)\n",
    "\n",
    "        self.grad = 1.0\n",
    "        for node in reversed(topo):\n",
    "            node._backward()\n",
    "\n",
    "            \n",
    "            "
   ]
  },
  {
   "cell_type": "code",
   "execution_count": 263,
   "id": "c8d4b7f3",
   "metadata": {},
   "outputs": [],
   "source": [
    "a = Value(2.0, label='a')\n",
    "b = Value(-3.0, label='b')\n",
    "c = Value(10.0, label='c')\n",
    "e = a*b; e.label = 'e'\n",
    "d = e + c; d.label = 'd'\n",
    "f = Value(-2.0, label='f')\n",
    "L = d * f; L.label = 'L'\n",
    "\n",
    "m = L.tanh(); m.label = 'm'"
   ]
  },
  {
   "cell_type": "code",
   "execution_count": 260,
   "id": "cce4fc4f",
   "metadata": {},
   "outputs": [
    {
     "name": "stdout",
     "output_type": "stream",
     "text": [
      "Value(data=-8.0)\n",
      "Value(data=4.0)\n",
      "Value(data=10.0)\n",
      "Value(data=-6.0)\n",
      "Value(data=2.0)\n",
      "Value(data=-3.0)\n",
      "Value(data=-2.0)\n"
     ]
    },
    {
     "data": {
      "image/svg+xml": [
       "<?xml version=\"1.0\" encoding=\"UTF-8\" standalone=\"no\"?>\n",
       "<!DOCTYPE svg PUBLIC \"-//W3C//DTD SVG 1.1//EN\"\n",
       " \"http://www.w3.org/Graphics/SVG/1.1/DTD/svg11.dtd\">\n",
       "<!-- Generated by graphviz version 11.0.0 (20240428.1522)\n",
       " -->\n",
       "<!-- Pages: 1 -->\n",
       "<svg width=\"1459pt\" height=\"156pt\"\n",
       " viewBox=\"0.00 0.00 1458.50 156.00\" xmlns=\"http://www.w3.org/2000/svg\" xmlns:xlink=\"http://www.w3.org/1999/xlink\">\n",
       "<g id=\"graph0\" class=\"graph\" transform=\"scale(1 1) rotate(0) translate(4 152)\">\n",
       "<polygon fill=\"white\" stroke=\"none\" points=\"-4,4 -4,-152 1454.5,-152 1454.5,4 -4,4\"/>\n",
       "<!-- 4468023824 -->\n",
       "<g id=\"node1\" class=\"node\">\n",
       "<title>4468023824</title>\n",
       "<polygon fill=\"none\" stroke=\"black\" points=\"0,-111.5 0,-147.5 188.25,-147.5 188.25,-111.5 0,-111.5\"/>\n",
       "<text text-anchor=\"middle\" x=\"11.38\" y=\"-124.7\" font-family=\"Times,serif\" font-size=\"14.00\">b</text>\n",
       "<polyline fill=\"none\" stroke=\"black\" points=\"22.75,-112 22.75,-147.5\"/>\n",
       "<text text-anchor=\"middle\" x=\"64.88\" y=\"-124.7\" font-family=\"Times,serif\" font-size=\"14.00\">data &#45;3.0000</text>\n",
       "<polyline fill=\"none\" stroke=\"black\" points=\"107,-112 107,-147.5\"/>\n",
       "<text text-anchor=\"middle\" x=\"147.62\" y=\"-124.7\" font-family=\"Times,serif\" font-size=\"14.00\">grad 0.0000</text>\n",
       "</g>\n",
       "<!-- 4541058320* -->\n",
       "<g id=\"node6\" class=\"node\">\n",
       "<title>4541058320*</title>\n",
       "<ellipse fill=\"none\" stroke=\"black\" cx=\"251.25\" cy=\"-101.5\" rx=\"27\" ry=\"18\"/>\n",
       "<text text-anchor=\"middle\" x=\"251.25\" y=\"-96.45\" font-family=\"Times,serif\" font-size=\"14.00\">*</text>\n",
       "</g>\n",
       "<!-- 4468023824&#45;&gt;4541058320* -->\n",
       "<g id=\"edge6\" class=\"edge\">\n",
       "<title>4468023824&#45;&gt;4541058320*</title>\n",
       "<path fill=\"none\" stroke=\"black\" d=\"M188.49,-112.65C197.36,-111.05 205.93,-109.5 213.73,-108.09\"/>\n",
       "<polygon fill=\"black\" stroke=\"black\" points=\"214.2,-111.56 223.42,-106.34 212.95,-104.68 214.2,-111.56\"/>\n",
       "</g>\n",
       "<!-- 4468030592 -->\n",
       "<g id=\"node2\" class=\"node\">\n",
       "<title>4468030592</title>\n",
       "<polygon fill=\"none\" stroke=\"black\" points=\"314.25,-28.5 314.25,-64.5 504,-64.5 504,-28.5 314.25,-28.5\"/>\n",
       "<text text-anchor=\"middle\" x=\"325.25\" y=\"-41.7\" font-family=\"Times,serif\" font-size=\"14.00\">c</text>\n",
       "<polyline fill=\"none\" stroke=\"black\" points=\"336.25,-29 336.25,-64.5\"/>\n",
       "<text text-anchor=\"middle\" x=\"379.5\" y=\"-41.7\" font-family=\"Times,serif\" font-size=\"14.00\">data 10.0000</text>\n",
       "<polyline fill=\"none\" stroke=\"black\" points=\"422.75,-29 422.75,-64.5\"/>\n",
       "<text text-anchor=\"middle\" x=\"463.38\" y=\"-41.7\" font-family=\"Times,serif\" font-size=\"14.00\">grad 0.0000</text>\n",
       "</g>\n",
       "<!-- 4541071232+ -->\n",
       "<g id=\"node10\" class=\"node\">\n",
       "<title>4541071232+</title>\n",
       "<ellipse fill=\"none\" stroke=\"black\" cx=\"567\" cy=\"-73.5\" rx=\"27\" ry=\"18\"/>\n",
       "<text text-anchor=\"middle\" x=\"567\" y=\"-68.45\" font-family=\"Times,serif\" font-size=\"14.00\">+</text>\n",
       "</g>\n",
       "<!-- 4468030592&#45;&gt;4541071232+ -->\n",
       "<g id=\"edge11\" class=\"edge\">\n",
       "<title>4468030592&#45;&gt;4541071232+</title>\n",
       "<path fill=\"none\" stroke=\"black\" d=\"M504.39,-62.83C513.16,-64.35 521.65,-65.82 529.37,-67.15\"/>\n",
       "<polygon fill=\"black\" stroke=\"black\" points=\"528.5,-70.56 538.95,-68.81 529.69,-63.66 528.5,-70.56\"/>\n",
       "</g>\n",
       "<!-- 4541727904 -->\n",
       "<g id=\"node3\" class=\"node\">\n",
       "<title>4541727904</title>\n",
       "<polygon fill=\"none\" stroke=\"black\" points=\"630,-0.5 630,-36.5 816,-36.5 816,-0.5 630,-0.5\"/>\n",
       "<text text-anchor=\"middle\" x=\"640.25\" y=\"-13.7\" font-family=\"Times,serif\" font-size=\"14.00\">f</text>\n",
       "<polyline fill=\"none\" stroke=\"black\" points=\"650.5,-1 650.5,-36.5\"/>\n",
       "<text text-anchor=\"middle\" x=\"692.62\" y=\"-13.7\" font-family=\"Times,serif\" font-size=\"14.00\">data &#45;2.0000</text>\n",
       "<polyline fill=\"none\" stroke=\"black\" points=\"734.75,-1 734.75,-36.5\"/>\n",
       "<text text-anchor=\"middle\" x=\"775.38\" y=\"-13.7\" font-family=\"Times,serif\" font-size=\"14.00\">grad 0.0000</text>\n",
       "</g>\n",
       "<!-- 4541727712* -->\n",
       "<g id=\"node12\" class=\"node\">\n",
       "<title>4541727712*</title>\n",
       "<ellipse fill=\"none\" stroke=\"black\" cx=\"879\" cy=\"-45.5\" rx=\"27\" ry=\"18\"/>\n",
       "<text text-anchor=\"middle\" x=\"879\" y=\"-40.45\" font-family=\"Times,serif\" font-size=\"14.00\">*</text>\n",
       "</g>\n",
       "<!-- 4541727904&#45;&gt;4541727712* -->\n",
       "<g id=\"edge9\" class=\"edge\">\n",
       "<title>4541727904&#45;&gt;4541727712*</title>\n",
       "<path fill=\"none\" stroke=\"black\" d=\"M816.25,-34.67C825.01,-36.21 833.5,-37.7 841.24,-39.05\"/>\n",
       "<polygon fill=\"black\" stroke=\"black\" points=\"840.39,-42.46 850.84,-40.74 841.6,-35.56 840.39,-42.46\"/>\n",
       "</g>\n",
       "<!-- 4468022528 -->\n",
       "<g id=\"node4\" class=\"node\">\n",
       "<title>4468022528</title>\n",
       "<polygon fill=\"none\" stroke=\"black\" points=\"2.62,-56.5 2.62,-92.5 185.62,-92.5 185.62,-56.5 2.62,-56.5\"/>\n",
       "<text text-anchor=\"middle\" x=\"13.62\" y=\"-69.7\" font-family=\"Times,serif\" font-size=\"14.00\">a</text>\n",
       "<polyline fill=\"none\" stroke=\"black\" points=\"24.62,-57 24.62,-92.5\"/>\n",
       "<text text-anchor=\"middle\" x=\"64.5\" y=\"-69.7\" font-family=\"Times,serif\" font-size=\"14.00\">data 2.0000</text>\n",
       "<polyline fill=\"none\" stroke=\"black\" points=\"104.38,-57 104.38,-92.5\"/>\n",
       "<text text-anchor=\"middle\" x=\"145\" y=\"-69.7\" font-family=\"Times,serif\" font-size=\"14.00\">grad 0.0000</text>\n",
       "</g>\n",
       "<!-- 4468022528&#45;&gt;4541058320* -->\n",
       "<g id=\"edge7\" class=\"edge\">\n",
       "<title>4468022528&#45;&gt;4541058320*</title>\n",
       "<path fill=\"none\" stroke=\"black\" d=\"M185.81,-90.28C195.45,-91.96 204.82,-93.59 213.29,-95.07\"/>\n",
       "<polygon fill=\"black\" stroke=\"black\" points=\"212.65,-98.51 223.1,-96.77 213.85,-91.61 212.65,-98.51\"/>\n",
       "</g>\n",
       "<!-- 4541058320 -->\n",
       "<g id=\"node5\" class=\"node\">\n",
       "<title>4541058320</title>\n",
       "<polygon fill=\"none\" stroke=\"black\" points=\"315.38,-83.5 315.38,-119.5 502.88,-119.5 502.88,-83.5 315.38,-83.5\"/>\n",
       "<text text-anchor=\"middle\" x=\"326.38\" y=\"-96.7\" font-family=\"Times,serif\" font-size=\"14.00\">e</text>\n",
       "<polyline fill=\"none\" stroke=\"black\" points=\"337.38,-84 337.38,-119.5\"/>\n",
       "<text text-anchor=\"middle\" x=\"379.5\" y=\"-96.7\" font-family=\"Times,serif\" font-size=\"14.00\">data &#45;6.0000</text>\n",
       "<polyline fill=\"none\" stroke=\"black\" points=\"421.62,-84 421.62,-119.5\"/>\n",
       "<text text-anchor=\"middle\" x=\"462.25\" y=\"-96.7\" font-family=\"Times,serif\" font-size=\"14.00\">grad 0.0000</text>\n",
       "</g>\n",
       "<!-- 4541058320&#45;&gt;4541071232+ -->\n",
       "<g id=\"edge10\" class=\"edge\">\n",
       "<title>4541058320&#45;&gt;4541071232+</title>\n",
       "<path fill=\"none\" stroke=\"black\" d=\"M503.05,-84.81C512.25,-83.16 521.16,-81.56 529.24,-80.1\"/>\n",
       "<polygon fill=\"black\" stroke=\"black\" points=\"529.71,-83.58 538.93,-78.36 528.47,-76.69 529.71,-83.58\"/>\n",
       "</g>\n",
       "<!-- 4541058320*&#45;&gt;4541058320 -->\n",
       "<g id=\"edge1\" class=\"edge\">\n",
       "<title>4541058320*&#45;&gt;4541058320</title>\n",
       "<path fill=\"none\" stroke=\"black\" d=\"M278.69,-101.5C286.1,-101.5 294.64,-101.5 303.71,-101.5\"/>\n",
       "<polygon fill=\"black\" stroke=\"black\" points=\"303.51,-105 313.51,-101.5 303.51,-98 303.51,-105\"/>\n",
       "</g>\n",
       "<!-- 4541727520 -->\n",
       "<g id=\"node7\" class=\"node\">\n",
       "<title>4541727520</title>\n",
       "<polygon fill=\"none\" stroke=\"black\" points=\"1257.75,-27.5 1257.75,-63.5 1450.5,-63.5 1450.5,-27.5 1257.75,-27.5\"/>\n",
       "<text text-anchor=\"middle\" x=\"1271.38\" y=\"-40.7\" font-family=\"Times,serif\" font-size=\"14.00\">m</text>\n",
       "<polyline fill=\"none\" stroke=\"black\" points=\"1285,-28 1285,-63.5\"/>\n",
       "<text text-anchor=\"middle\" x=\"1327.12\" y=\"-40.7\" font-family=\"Times,serif\" font-size=\"14.00\">data &#45;1.0000</text>\n",
       "<polyline fill=\"none\" stroke=\"black\" points=\"1369.25,-28 1369.25,-63.5\"/>\n",
       "<text text-anchor=\"middle\" x=\"1409.88\" y=\"-40.7\" font-family=\"Times,serif\" font-size=\"14.00\">grad 0.0000</text>\n",
       "</g>\n",
       "<!-- 4541727520tanh -->\n",
       "<g id=\"node8\" class=\"node\">\n",
       "<title>4541727520tanh</title>\n",
       "<ellipse fill=\"none\" stroke=\"black\" cx=\"1194.75\" cy=\"-45.5\" rx=\"27\" ry=\"18\"/>\n",
       "<text text-anchor=\"middle\" x=\"1194.75\" y=\"-40.45\" font-family=\"Times,serif\" font-size=\"14.00\">tanh</text>\n",
       "</g>\n",
       "<!-- 4541727520tanh&#45;&gt;4541727520 -->\n",
       "<g id=\"edge2\" class=\"edge\">\n",
       "<title>4541727520tanh&#45;&gt;4541727520</title>\n",
       "<path fill=\"none\" stroke=\"black\" d=\"M1222.09,-45.5C1229.23,-45.5 1237.42,-45.5 1246.14,-45.5\"/>\n",
       "<polygon fill=\"black\" stroke=\"black\" points=\"1245.92,-49 1255.92,-45.5 1245.92,-42 1245.92,-49\"/>\n",
       "</g>\n",
       "<!-- 4541071232 -->\n",
       "<g id=\"node9\" class=\"node\">\n",
       "<title>4541071232</title>\n",
       "<polygon fill=\"none\" stroke=\"black\" points=\"631.12,-55.5 631.12,-91.5 814.88,-91.5 814.88,-55.5 631.12,-55.5\"/>\n",
       "<text text-anchor=\"middle\" x=\"642.5\" y=\"-68.7\" font-family=\"Times,serif\" font-size=\"14.00\">d</text>\n",
       "<polyline fill=\"none\" stroke=\"black\" points=\"653.88,-56 653.88,-91.5\"/>\n",
       "<text text-anchor=\"middle\" x=\"693.75\" y=\"-68.7\" font-family=\"Times,serif\" font-size=\"14.00\">data 4.0000</text>\n",
       "<polyline fill=\"none\" stroke=\"black\" points=\"733.62,-56 733.62,-91.5\"/>\n",
       "<text text-anchor=\"middle\" x=\"774.25\" y=\"-68.7\" font-family=\"Times,serif\" font-size=\"14.00\">grad 0.0000</text>\n",
       "</g>\n",
       "<!-- 4541071232&#45;&gt;4541727712* -->\n",
       "<g id=\"edge5\" class=\"edge\">\n",
       "<title>4541071232&#45;&gt;4541727712*</title>\n",
       "<path fill=\"none\" stroke=\"black\" d=\"M815.36,-56.89C824.5,-55.23 833.36,-53.62 841.4,-52.15\"/>\n",
       "<polygon fill=\"black\" stroke=\"black\" points=\"841.83,-55.63 851.04,-50.4 840.57,-48.75 841.83,-55.63\"/>\n",
       "</g>\n",
       "<!-- 4541071232+&#45;&gt;4541071232 -->\n",
       "<g id=\"edge3\" class=\"edge\">\n",
       "<title>4541071232+&#45;&gt;4541071232</title>\n",
       "<path fill=\"none\" stroke=\"black\" d=\"M594.47,-73.5C601.87,-73.5 610.38,-73.5 619.43,-73.5\"/>\n",
       "<polygon fill=\"black\" stroke=\"black\" points=\"619.17,-77 629.17,-73.5 619.17,-70 619.17,-77\"/>\n",
       "</g>\n",
       "<!-- 4541727712 -->\n",
       "<g id=\"node11\" class=\"node\">\n",
       "<title>4541727712</title>\n",
       "<polygon fill=\"none\" stroke=\"black\" points=\"942,-27.5 942,-63.5 1131.75,-63.5 1131.75,-27.5 942,-27.5\"/>\n",
       "<text text-anchor=\"middle\" x=\"954.12\" y=\"-40.7\" font-family=\"Times,serif\" font-size=\"14.00\">L</text>\n",
       "<polyline fill=\"none\" stroke=\"black\" points=\"966.25,-28 966.25,-63.5\"/>\n",
       "<text text-anchor=\"middle\" x=\"1008.38\" y=\"-40.7\" font-family=\"Times,serif\" font-size=\"14.00\">data &#45;8.0000</text>\n",
       "<polyline fill=\"none\" stroke=\"black\" points=\"1050.5,-28 1050.5,-63.5\"/>\n",
       "<text text-anchor=\"middle\" x=\"1091.12\" y=\"-40.7\" font-family=\"Times,serif\" font-size=\"14.00\">grad 0.0000</text>\n",
       "</g>\n",
       "<!-- 4541727712&#45;&gt;4541727520tanh -->\n",
       "<g id=\"edge8\" class=\"edge\">\n",
       "<title>4541727712&#45;&gt;4541727520tanh</title>\n",
       "<path fill=\"none\" stroke=\"black\" d=\"M1132.14,-45.5C1140.46,-45.5 1148.51,-45.5 1155.91,-45.5\"/>\n",
       "<polygon fill=\"black\" stroke=\"black\" points=\"1155.77,-49 1165.77,-45.5 1155.77,-42 1155.77,-49\"/>\n",
       "</g>\n",
       "<!-- 4541727712*&#45;&gt;4541727712 -->\n",
       "<g id=\"edge4\" class=\"edge\">\n",
       "<title>4541727712*&#45;&gt;4541727712</title>\n",
       "<path fill=\"none\" stroke=\"black\" d=\"M906.44,-45.5C913.59,-45.5 921.78,-45.5 930.49,-45.5\"/>\n",
       "<polygon fill=\"black\" stroke=\"black\" points=\"930.26,-49 940.26,-45.5 930.26,-42 930.26,-49\"/>\n",
       "</g>\n",
       "</g>\n",
       "</svg>\n"
      ],
      "text/plain": [
       "<graphviz.graphs.Digraph at 0x10eb34e30>"
      ]
     },
     "execution_count": 260,
     "metadata": {},
     "output_type": "execute_result"
    }
   ],
   "source": [
    "draw_dot(m)"
   ]
  },
  {
   "cell_type": "markdown",
   "id": "77ab9351",
   "metadata": {},
   "source": [
    "### Basic neuron\n",
    "![bacic_neuron](https://cs231n.github.io/assets/nn1/neuron_model.jpeg)"
   ]
  },
  {
   "cell_type": "code",
   "execution_count": 9,
   "id": "f28a4e04",
   "metadata": {},
   "outputs": [],
   "source": [
    "class Neuron:\n",
    "    def __init__(self, nin):\n",
    "        self.w = [Value(random.uniform(1,-1)) for _ in range(nin)]\n",
    "        self.b = Value(random.uniform(1,-1))\n",
    "        \n",
    "    def __call__(self,x):\n",
    "        # Apply the transformation to x i.e w * x + b\n",
    "        out =  sum([w*x for w,x in zip(self.w, x)], self.b)\n",
    "        out = out.tanh()\n",
    "        return out\n"
   ]
  },
  {
   "cell_type": "markdown",
   "id": "036e073a",
   "metadata": {},
   "source": [
    "### Multilayer perceptron (MLP)\n",
    "\n",
    "![mlp](https://cs231n.github.io/assets/nn1/neural_net2.jpeg)"
   ]
  },
  {
   "cell_type": "code",
   "execution_count": null,
   "id": "9857a923",
   "metadata": {},
   "outputs": [],
   "source": []
  },
  {
   "cell_type": "markdown",
   "id": "03a94e1e",
   "metadata": {},
   "source": [
    "#### MLP"
   ]
  },
  {
   "cell_type": "code",
   "execution_count": 261,
   "id": "0d515e4e",
   "metadata": {},
   "outputs": [],
   "source": [
    "\n",
    "            \n",
    "class Neuron:\n",
    "    def __init__(self, nin):\n",
    "        self.w = [Value(random.uniform(-1, 1)) for _ in range(nin)]\n",
    "        self.b = Value(random.uniform(-1, 1))\n",
    "\n",
    "    def __call__(self, x):\n",
    "        # w * x + b\n",
    "        act = sum((wi * xi for wi, xi in zip(self.w, x)), self.b)\n",
    "        out = act.tanh()\n",
    "        return out\n",
    "\n",
    "    def parameters(self):\n",
    "        return self.w + [self.b]\n",
    "\n",
    "\n",
    "class Layer:\n",
    "    def __init__(self, nin, nout):\n",
    "        self.neurons = [Neuron(nin) for _ in range(nout)]\n",
    "\n",
    "    def __call__(self, x):\n",
    "        outs = [n(x) for n in self.neurons]\n",
    "        return outs[0] if len(outs) == 1 else outs\n",
    "\n",
    "    def parameters(self):\n",
    "        return [p for neuron in self.neurons for p in neuron.parameters()]\n",
    "\n",
    "\n",
    "class MLP:\n",
    "    def __init__(self, nin, nouts):\n",
    "        sz = [nin] + nouts\n",
    "        self.layers = [Layer(sz[i], sz[i + 1]) for i in range(len(nouts))]\n",
    "\n",
    "    def __call__(self, x):\n",
    "        for layer in self.layers:\n",
    "            x = layer(x)\n",
    "        return x\n",
    "\n",
    "    def parameters(self):\n",
    "        return [p for layer in self.layers for p in layer.parameters()]\n"
   ]
  },
  {
   "cell_type": "code",
   "execution_count": 152,
   "id": "81e0dc23",
   "metadata": {},
   "outputs": [],
   "source": [
    "n = Neuron(3)"
   ]
  },
  {
   "cell_type": "code",
   "execution_count": 153,
   "id": "4d0a0599",
   "metadata": {},
   "outputs": [
    {
     "data": {
      "text/plain": [
       "[Value(data=-0.433891264597267),\n",
       " Value(data=-0.7415071176949894),\n",
       " Value(data=0.25672676093266356),\n",
       " Value(data=-0.5779502945189039)]"
      ]
     },
     "execution_count": 153,
     "metadata": {},
     "output_type": "execute_result"
    }
   ],
   "source": [
    "n.parameters()"
   ]
  },
  {
   "cell_type": "code",
   "execution_count": 154,
   "id": "e69c677f",
   "metadata": {},
   "outputs": [],
   "source": [
    "l = Layer(3,4)"
   ]
  },
  {
   "cell_type": "code",
   "execution_count": 155,
   "id": "540ad3c2",
   "metadata": {},
   "outputs": [
    {
     "data": {
      "text/plain": [
       "[Value(data=0.7715282289599554),\n",
       " Value(data=0.786622932305437),\n",
       " Value(data=-0.5469872594559122),\n",
       " Value(data=-0.3301941693668824),\n",
       " Value(data=0.9884695759631099),\n",
       " Value(data=-0.24508760182393763),\n",
       " Value(data=-0.4536178957047019),\n",
       " Value(data=0.29968254951290585),\n",
       " Value(data=0.3194587852515256),\n",
       " Value(data=-0.8172333248360464),\n",
       " Value(data=0.10247135818093733),\n",
       " Value(data=0.4317725577622604),\n",
       " Value(data=0.1216806021310497),\n",
       " Value(data=0.7489148091536537),\n",
       " Value(data=-0.2472778490566383),\n",
       " Value(data=-0.5056834246696558)]"
      ]
     },
     "execution_count": 155,
     "metadata": {},
     "output_type": "execute_result"
    }
   ],
   "source": [
    "l.parameters()"
   ]
  },
  {
   "cell_type": "code",
   "execution_count": null,
   "id": "26ba738b",
   "metadata": {},
   "outputs": [],
   "source": []
  },
  {
   "cell_type": "code",
   "execution_count": 156,
   "id": "3659b512",
   "metadata": {},
   "outputs": [
    {
     "data": {
      "text/plain": [
       "Value(data=-0.9384235617594683)"
      ]
     },
     "execution_count": 156,
     "metadata": {},
     "output_type": "execute_result"
    }
   ],
   "source": [
    "n([1.0,2.0, 3.0])"
   ]
  },
  {
   "cell_type": "code",
   "execution_count": 213,
   "id": "d48f63ea",
   "metadata": {},
   "outputs": [],
   "source": [
    "mlp = MLP(3, [4,4,1])\n",
    "xs = [\n",
    "    [2.0, 3.0, -1.0],\n",
    "    [3.0, 5.0, -2.0],\n",
    "    [-3.0, 4.0, -1.0],\n",
    "    [4.0, 2.0, -2.0]\n",
    "]\n",
    "\n",
    "ys = [1.0, -1.0, -1.0, 1.0]\n"
   ]
  },
  {
   "cell_type": "code",
   "execution_count": 249,
   "id": "5baa0fbe",
   "metadata": {},
   "outputs": [],
   "source": [
    "loss.backward()"
   ]
  },
  {
   "cell_type": "code",
   "execution_count": 253,
   "id": "403c36b6",
   "metadata": {},
   "outputs": [],
   "source": [
    "learning_rate = 0.01\n",
    "\n",
    "for p in mlp.parameters():\n",
    "    p.data += -learning_rate* p.grad\n",
    "    \n"
   ]
  },
  {
   "cell_type": "code",
   "execution_count": 254,
   "id": "00e041d8",
   "metadata": {},
   "outputs": [
    {
     "data": {
      "text/plain": [
       "Value(data=3.8651295747489756)"
      ]
     },
     "execution_count": 254,
     "metadata": {},
     "output_type": "execute_result"
    }
   ],
   "source": [
    "# forward pass\n",
    "ypred = [mlp(x) for x in xs]\n",
    "loss = sum((yout - ygt) ** 2 for ygt, yout in zip(ys, ypred))\n",
    "loss"
   ]
  },
  {
   "cell_type": "markdown",
   "id": "2a12f552",
   "metadata": {},
   "source": [
    "#### Gradient Descent"
   ]
  },
  {
   "cell_type": "code",
   "execution_count": 264,
   "id": "98f2ed32",
   "metadata": {},
   "outputs": [
    {
     "name": "stdout",
     "output_type": "stream",
     "text": [
      "Value(data=0.07689175938718561)\n",
      "Value(data=0.07612468817462772)\n",
      "Value(data=0.07537101520642442)\n",
      "Value(data=0.07463041259628173)\n",
      "Value(data=0.07390256271094085)\n",
      "Value(data=0.07318715777986216)\n",
      "Value(data=0.07248389952250589)\n",
      "Value(data=0.07179249879228758)\n",
      "Value(data=0.07111267523633572)\n",
      "Value(data=0.0704441569702387)\n",
      "Value(data=0.06978668026701128)\n",
      "Value(data=0.06913998925955754)\n",
      "Value(data=0.06850383565595225)\n",
      "Value(data=0.06787797846689606)\n",
      "Value(data=0.06726218374474516)\n",
      "Value(data=0.06665622433354086)\n",
      "Value(data=0.06605987962950519)\n",
      "Value(data=0.06547293535149323)\n",
      "Value(data=0.06489518332092367)\n",
      "Value(data=0.06432642125073401)\n",
      "Value(data=0.06376645254293405)\n",
      "Value(data=0.06321508609435057)\n",
      "Value(data=0.06267213611018134)\n",
      "Value(data=0.06213742192499665)\n",
      "Value(data=0.06161076783084236)\n",
      "Value(data=0.06109200291212306)\n",
      "Value(data=0.06058096088695154)\n",
      "Value(data=0.0600774799546794)\n",
      "Value(data=0.05958140264932426)\n",
      "Value(data=0.05909257569863502)\n",
      "Value(data=0.058610849888543634)\n",
      "Value(data=0.05813607993276729)\n",
      "Value(data=0.05766812434733411)\n",
      "Value(data=0.05720684532981993)\n",
      "Value(data=0.056752108643091576)\n",
      "Value(data=0.0563037835033627)\n",
      "Value(data=0.055861742472380016)\n",
      "Value(data=0.055425861353562145)\n",
      "Value(data=0.05499601909192682)\n",
      "Value(data=0.05457209767764469)\n",
      "Value(data=0.0541539820530734)\n",
      "Value(data=0.05374156002312091)\n",
      "Value(data=0.053334722168807025)\n",
      "Value(data=0.05293336176388899)\n",
      "Value(data=0.05253737469442705)\n",
      "Value(data=0.05214665938117151)\n",
      "Value(data=0.051761116704654886)\n",
      "Value(data=0.05138064993288635)\n",
      "Value(data=0.051005164651537864)\n",
      "Value(data=0.05063456869652933)\n",
      "Value(data=0.050268772088914476)\n",
      "Value(data=0.04990768697197842)\n",
      "Value(data=0.04955122755046106)\n",
      "Value(data=0.04919931003182437)\n",
      "Value(data=0.048851852569481394)\n",
      "Value(data=0.048508775207917756)\n",
      "Value(data=0.04816999982962622)\n",
      "Value(data=0.04783545010379203)\n",
      "Value(data=0.047505051436657855)\n",
      "Value(data=0.04717873092350872)\n",
      "Value(data=0.046856417302214064)\n",
      "Value(data=0.04653804090826887)\n",
      "Value(data=0.046223533631281954)\n",
      "Value(data=0.045912828872852744)\n",
      "Value(data=0.045605861505789075)\n",
      "Value(data=0.04530256783461665)\n",
      "Value(data=0.04500288555733294)\n",
      "Value(data=0.04470675372835959)\n",
      "Value(data=0.04441411272265203)\n",
      "Value(data=0.04412490420092346)\n",
      "Value(data=0.04383907107594412)\n",
      "Value(data=0.043556557479878154)\n",
      "Value(data=0.04327730873261955)\n",
      "Value(data=0.043001271311095345)\n",
      "Value(data=0.04272839281949822)\n",
      "Value(data=0.04245862196042071)\n",
      "Value(data=0.04219190850685519)\n",
      "Value(data=0.04192820327503278)\n",
      "Value(data=0.04166745809807248)\n",
      "Value(data=0.041409625800410695)\n",
      "Value(data=0.041154660172986246)\n",
      "Value(data=0.040902515949154956)\n",
      "Value(data=0.040653148781309656)\n",
      "Value(data=0.0404065152181806)\n",
      "Value(data=0.04016257268279472)\n",
      "Value(data=0.039921279451071844)\n",
      "Value(data=0.03968259463103582)\n",
      "Value(data=0.039446478142621415)\n",
      "Value(data=0.03921289069805659)\n",
      "Value(data=0.03898179378280152)\n",
      "Value(data=0.038753149637026967)\n",
      "Value(data=0.038526921237612935)\n",
      "Value(data=0.038303072280652675)\n",
      "Value(data=0.0380815671644446)\n",
      "Value(data=0.037862370972956416)\n",
      "Value(data=0.037645449459747744)\n",
      "Value(data=0.03743076903233466)\n",
      "Value(data=0.03721829673698436)\n",
      "Value(data=0.037008000243924505)\n",
      "Value(data=0.036799847832954855)\n"
     ]
    }
   ],
   "source": [
    "for _ in range(5*20):\n",
    "    ypred = [mlp(x) for x in xs]\n",
    "    loss = sum((yout - ygt) ** 2 for ygt, yout in zip(ys, ypred))\n",
    "    \n",
    "        \n",
    "    for p in mlp.parameters():\n",
    "        p.grad = 0\n",
    "\n",
    "    loss.backward()\n",
    "    \n",
    "    for p in mlp.parameters():\n",
    "        p.data += -learning_rate* p.grad\n",
    "    \n",
    "    print(loss)\n",
    "        \n",
    "    "
   ]
  },
  {
   "cell_type": "code",
   "execution_count": 257,
   "id": "7850fdcf",
   "metadata": {},
   "outputs": [
    {
     "name": "stdout",
     "output_type": "stream",
     "text": [
      "Value(data=0.8210835018580535)\n",
      "Value(data=-0.7962180230386738)\n",
      "Value(data=-0.9998716864641167)\n",
      "Value(data=0.94209028163444)\n"
     ]
    }
   ],
   "source": [
    "for x in xs:\n",
    "    print(mlp(x))"
   ]
  },
  {
   "cell_type": "markdown",
   "id": "3a87bd94",
   "metadata": {},
   "source": [
    "## Lets train decision boundary classifier"
   ]
  },
  {
   "cell_type": "code",
   "execution_count": 392,
   "id": "50f2eb0b",
   "metadata": {},
   "outputs": [],
   "source": [
    "import random\n",
    "import numpy as np\n",
    "import matplotlib.pyplot as plt\n",
    "%matplotlib inline\n",
    "\n",
    "from sklearn.datasets import make_moons, make_blobs\n",
    "X, y = make_moons(n_samples=100, noise=0.1)"
   ]
  },
  {
   "cell_type": "code",
   "execution_count": 393,
   "id": "893ed265",
   "metadata": {},
   "outputs": [
    {
     "data": {
      "text/plain": [
       "array([ 1,  1,  1,  1, -1,  1, -1,  1, -1, -1, -1,  1, -1, -1, -1,  1,  1,\n",
       "        1,  1, -1,  1,  1, -1,  1,  1, -1,  1, -1,  1, -1, -1, -1, -1, -1,\n",
       "        1, -1,  1, -1, -1, -1,  1, -1,  1, -1, -1, -1,  1,  1,  1,  1,  1,\n",
       "       -1, -1, -1,  1,  1, -1, -1, -1, -1,  1, -1,  1, -1,  1, -1,  1, -1,\n",
       "        1, -1, -1,  1,  1,  1,  1,  1,  1,  1, -1, -1, -1, -1,  1,  1,  1,\n",
       "       -1,  1, -1,  1, -1,  1,  1, -1, -1,  1, -1,  1, -1, -1,  1])"
      ]
     },
     "execution_count": 393,
     "metadata": {},
     "output_type": "execute_result"
    }
   ],
   "source": [
    "y = y*2 - 1\n",
    "y"
   ]
  },
  {
   "cell_type": "code",
   "execution_count": 341,
   "id": "27ebb34a",
   "metadata": {},
   "outputs": [
    {
     "data": {
      "image/png": "[encoded data removed]",
      "text/plain": [
       "<Figure size 640x480 with 1 Axes>"
      ]
     },
     "metadata": {},
     "output_type": "display_data"
    }
   ],
   "source": [
    "plt.scatter(X[:,0], X[:,1],c=y, s=20, cmap='jet')\n",
    "plt.show()"
   ]
  },
  {
   "cell_type": "code",
   "execution_count": 291,
   "id": "8c27bc5e",
   "metadata": {},
   "outputs": [],
   "source": [
    "mlp = MLP(2, [32,32,1])"
   ]
  },
  {
   "cell_type": "code",
   "execution_count": 292,
   "id": "67b2ffdb",
   "metadata": {},
   "outputs": [],
   "source": [
    "learning_rate = 0.001"
   ]
  },
  {
   "cell_type": "code",
   "execution_count": 293,
   "id": "468acff4",
   "metadata": {},
   "outputs": [
    {
     "name": "stdout",
     "output_type": "stream",
     "text": [
      "Value(data=182.1622463231299)\n",
      "Value(data=65.05133379917447)\n",
      "Value(data=61.26581110246475)\n",
      "Value(data=55.79599721490805)\n",
      "Value(data=51.77747973059866)\n",
      "Value(data=47.65322613718348)\n",
      "Value(data=43.88060919117072)\n",
      "Value(data=40.52506065613967)\n",
      "Value(data=37.49252562016227)\n",
      "Value(data=34.43070937614673)\n",
      "Value(data=30.623122657211468)\n",
      "Value(data=24.738047064899384)\n",
      "Value(data=17.050869336505848)\n",
      "Value(data=13.784637992900473)\n",
      "Value(data=11.659200266390469)\n",
      "Value(data=10.178400557836552)\n",
      "Value(data=9.184089771281702)\n",
      "Value(data=8.48046441876675)\n",
      "Value(data=7.928629246802346)\n",
      "Value(data=7.532672632357527)\n",
      "Value(data=7.032821896013472)\n",
      "Value(data=6.65621110168662)\n",
      "Value(data=6.168347199548206)\n",
      "Value(data=5.808679025852884)\n",
      "Value(data=5.462207622996187)\n",
      "Value(data=5.201366412273588)\n",
      "Value(data=4.98009704551094)\n",
      "Value(data=4.795857417554366)\n",
      "Value(data=4.633842265216165)\n",
      "Value(data=4.488230079494224)\n",
      "Value(data=4.354989401169345)\n",
      "Value(data=4.231942657391976)\n",
      "Value(data=4.117657374592167)\n",
      "Value(data=4.011080258221282)\n",
      "Value(data=3.911363221194816)\n",
      "Value(data=3.8177933255580734)\n",
      "Value(data=3.72976018270901)\n",
      "Value(data=3.6467360786054703)\n",
      "Value(data=3.56826172887158)\n",
      "Value(data=3.493935143441564)\n",
      "Value(data=3.423402681730398)\n",
      "Value(data=3.3563517748248453)\n",
      "Value(data=3.292504951537847)\n",
      "Value(data=3.231614899596553)\n",
      "Value(data=3.1734603549646203)\n",
      "Value(data=3.117842659315476)\n",
      "Value(data=3.0645828603586174)\n",
      "Value(data=3.0135192562293307)\n",
      "Value(data=2.9645053054100763)\n",
      "Value(data=2.917407839318283)\n",
      "Value(data=2.8721055268953997)\n",
      "Value(data=2.8284875501075852)\n",
      "Value(data=2.786452456835867)\n",
      "Value(data=2.7459071636544987)\n",
      "Value(data=2.7067660858162235)\n",
      "Value(data=2.668950375644981)\n",
      "Value(data=2.632387253679802)\n",
      "Value(data=2.5970094194730278)\n",
      "Value(data=2.5627545310397744)\n",
      "Value(data=2.529564743677235)\n",
      "Value(data=2.4973863002939165)\n",
      "Value(data=2.4661691665685814)\n",
      "Value(data=2.435866705240654)\n",
      "Value(data=2.4064353846554623)\n",
      "Value(data=2.377834517376937)\n",
      "Value(data=2.350026025261523)\n",
      "Value(data=2.3229742278776624)\n",
      "Value(data=2.2966456515721307)\n",
      "Value(data=2.2710088568384688)\n",
      "Value(data=2.2460342819455046)\n",
      "Value(data=2.2216941010426714)\n",
      "Value(data=2.197962095181288)\n",
      "Value(data=2.174813534882096)\n",
      "Value(data=2.15222507304478)\n",
      "Value(data=2.130174647137749)\n",
      "Value(data=2.1086413897307743)\n",
      "Value(data=2.0876055465406322)\n",
      "Value(data=2.0670484012539063)\n",
      "Value(data=2.046952206473221)\n",
      "Value(data=2.027300120204841)\n",
      "Value(data=2.0080761473687883)\n",
      "Value(data=1.9892650858677565)\n",
      "Value(data=1.9708524768000655)\n",
      "Value(data=1.9528245584448152)\n",
      "Value(data=1.9351682236854126)\n",
      "Value(data=1.9178709805714458)\n",
      "Value(data=1.9009209157485312)\n",
      "Value(data=1.8843066605125953)\n",
      "Value(data=1.868017359268347)\n",
      "Value(data=1.8520426401930454)\n",
      "Value(data=1.836372587925299)\n",
      "Value(data=1.820997718115427)\n",
      "Value(data=1.8059089536891542)\n",
      "Value(data=1.7910976026896581)\n",
      "Value(data=1.7765553375752787)\n",
      "Value(data=1.76227417586108)\n",
      "Value(data=1.748246462002174)\n",
      "Value(data=1.734464850425715)\n",
      "Value(data=1.7209222896262921)\n",
      "Value(data=1.7076120072468082)\n"
     ]
    }
   ],
   "source": [
    "for _ in range(100):\n",
    "    ypred = [mlp(x) for x in X]\n",
    "    loss = sum((yout - y_true)**2 for yout, y_true in zip(ypred, y))\n",
    "    \n",
    "    for p in mlp.parameters():\n",
    "        p.grad = 0\n",
    "        \n",
    "    loss.backward()\n",
    "    \n",
    "    for p in mlp.parameters():\n",
    "        p.data += -learning_rate*p.grad\n",
    "        \n",
    "    print(loss)"
   ]
  },
  {
   "cell_type": "code",
   "execution_count": 296,
   "id": "21c853d5",
   "metadata": {},
   "outputs": [],
   "source": [
    "# Define grid range\n",
    "x_min, x_max = X[:, 0].min() - 1, X[:, 0].max() + 1\n",
    "y_min, y_max = X[:, 1].min() - 1, X[:, 1].max() + 1\n",
    "\n",
    "# Create grid\n",
    "xx, yy = np.meshgrid(np.arange(x_min, x_max, 0.01),\n",
    "                     np.arange(y_min, y_max, 0.01))"
   ]
  },
  {
   "cell_type": "code",
   "execution_count": 302,
   "id": "8d773685",
   "metadata": {},
   "outputs": [
    {
     "data": {
      "text/plain": [
       "array([-2.0841472, -2.0741472, -2.0641472, ...,  2.9858528,  2.9958528,\n",
       "        3.0058528], shape=(188700,))"
      ]
     },
     "execution_count": 302,
     "metadata": {},
     "output_type": "execute_result"
    }
   ],
   "source": [
    "xx.ravel()"
   ]
  },
  {
   "cell_type": "markdown",
   "id": "e753771e",
   "metadata": {},
   "source": [
    "### Lets separate the decision boundary for these data using our trained model"
   ]
  },
  {
   "cell_type": "code",
   "execution_count": 343,
   "id": "58ec2cbb",
   "metadata": {},
   "outputs": [],
   "source": [
    "X, y = make_moons(n_samples=100, noise=0.1)"
   ]
  },
  {
   "cell_type": "code",
   "execution_count": 368,
   "id": "e37bcbdd",
   "metadata": {},
   "outputs": [],
   "source": [
    "x1 = np.arange(X[:,0].min() - 1, X[:, 0].max() + 1, 0.25)\n",
    "\n",
    "x2 = np.arange(X[:,1].min() - 1, X[:, 1].max() + 1, 0.25)\n",
    "\n",
    "xx, yy = np.meshgrid(x1,x2)\n",
    "\n",
    "# Combined data points\n",
    "Xmesh = np.c_[xx.ravel(),yy.ravel()]\n"
   ]
  },
  {
   "cell_type": "code",
   "execution_count": 380,
   "id": "ff7cf69f",
   "metadata": {},
   "outputs": [],
   "source": [
    "inputs = [list(map(Value, xrow)) for xrow in Xmesh ]\n",
    "scores = list(map(mlp, inputs))\n"
   ]
  },
  {
   "cell_type": "code",
   "execution_count": 382,
   "id": "36e37d87",
   "metadata": {},
   "outputs": [],
   "source": [
    "Z = np.array([s.data > 0 for s in scores])"
   ]
  },
  {
   "cell_type": "code",
   "execution_count": 384,
   "id": "de3b0e7c",
   "metadata": {},
   "outputs": [],
   "source": [
    "Z = Z.reshape(xx.shape)"
   ]
  },
  {
   "cell_type": "code",
   "execution_count": 385,
   "id": "4b47ba6d",
   "metadata": {},
   "outputs": [
    {
     "data": {
      "text/plain": [
       "(16, 21)"
      ]
     },
     "execution_count": 385,
     "metadata": {},
     "output_type": "execute_result"
    }
   ],
   "source": [
    "Z.shape"
   ]
  },
  {
   "cell_type": "code",
   "execution_count": 400,
   "id": "886d0295",
   "metadata": {},
   "outputs": [
    {
     "data": {
      "image/png": "[encoded data removed]",
      "text/plain": [
       "<Figure size 640x480 with 1 Axes>"
      ]
     },
     "metadata": {},
     "output_type": "display_data"
    }
   ],
   "source": [
    "plt.contour(xx,yy, Z)\n",
    "plt.scatter(X[:, 0], X[:, 1], c=y, s=40, cmap=plt.cm.Spectral)\n",
    "plt.xlim(xx.min(), xx.max())\n",
    "plt.ylim(yy.min(), yy.max())\n",
    "plt.show()\n",
    "\n"
   ]
  },
  {
   "cell_type": "code",
   "execution_count": null,
   "id": "f1c4a765",
   "metadata": {},
   "outputs": [],
   "source": []
  }
 ],
 "metadata": {
  "kernelspec": {
   "display_name": "deep_learning",
   "language": "python",
   "name": "deep_learning"
  },
  "language_info": {
   "codemirror_mode": {
    "name": "ipython",
    "version": 3
   },
   "file_extension": ".py",
   "mimetype": "text/x-python",
   "name": "python",
   "nbconvert_exporter": "python",
   "pygments_lexer": "ipython3",
   "version": "3.12.7"
  }
 },
 "nbformat": 4,
 "nbformat_minor": 5
}
